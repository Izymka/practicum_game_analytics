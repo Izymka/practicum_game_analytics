{
 "cells": [
  {
   "cell_type": "markdown",
   "metadata": {},
   "source": [
    "Привет, Ирина!\n",
    "\n",
    "Меня зовут Вячеслав Погорелый, и я буду проводить ревью твоего проекта. \n",
    "\n",
    "Предлагаю перейти на \"ты\", если не против)\n",
    "\n",
    "Но если это не удобно - дай знать, и мы перейдем на \"вы\". Моя главная задача — не находить сделанные тобою ошибки, а передать свой опыт и помочь тебе стать аналитиком данных.\n",
    "\n",
    "Я отметил комментарии и замечания разным цветом далее по тексту markdown:\n",
    "\n",
    "---    \n",
    "<div class=\"alert alert-block alert-danger\">\n",
    "    \n",
    "### Ошибка\n",
    "    \n",
    "Критическое замечание, которые следует исправить.\n",
    "</div> \n",
    "    \n",
    "---\n",
    "    \n",
    "<div class=\"alert alert-block alert-warning\">\n",
    "    \n",
    "### Совет\n",
    "    \n",
    "Замечание\\совет на будущее.\n",
    "</div>\n",
    "    \n",
    "---\n",
    "    \n",
    "<div class=\"alert alert-block alert-success\">\n",
    "    \n",
    "### Успех\n",
    "\n",
    "Все здорово"
   ]
  },
  {
   "cell_type": "markdown",
   "metadata": {},
   "source": [
    "<div class=\"alert alert-block alert-success\">\n",
    " \n",
    "### Итоговый Комментарий ревьюера\n",
    "    \n",
    "#### Успех\n",
    "    \n",
    "Спасибо тебе за доработку проекта. Вот теперь я его готов принять. От себя я хочу пожелать успехов в дальнейешей учебе. Ты точно справишься и дальше, я уверен."
   ]
  },
  {
   "cell_type": "markdown",
   "metadata": {},
   "source": [
    "<div class=\"alert alert-block alert-success\">\n",
    " \n",
    "# Итоговый Комментарий ревьюера ver.2 \n",
    "    \n",
    "#### Успех\n",
    "    \n",
    "Спасибо тебе за доработку проекта. Вот теперь я его готов принять. От себя я хочу пожелать успехов в дальнешей учебе. Ты точно справишься и дальше, я уверен."
   ]
  },
  {
   "cell_type": "markdown",
   "metadata": {},
   "source": [
    "# Исследование закономерности успешности игр\n",
    "\n",
    "Заказчиком исследования является интернет-магазин \"Стримчик\", который продает компьютерные игры по всему миру.\n",
    "В нашем распоряжении данные из открытых источников. Данные содержат инфомрацию:\n",
    "- о продаже игр, \n",
    "- оценки пользователей и экспертов, \n",
    "- жанры \n",
    "- платформы (например, Xbox или PlayStation). \n",
    "\n",
    "В ходе исследования нужно выявить закономерности определяющие успешность игр. Это позволит сделать ставку на потенциально популярный продукт и спланировать рекламные кампании."
   ]
  },
  {
   "cell_type": "markdown",
   "metadata": {},
   "source": [
    "<div class=\"alert alert-block alert-success\">\n",
    " \n",
    "### Комментарий ревьюера\n",
    "    \n",
    "#### Успех\n",
    "    \n",
    "Спасибо большое за то, что здесь оформлено оглавление к проекту. Так проект выглядит опрятнее"
   ]
  },
  {
   "cell_type": "code",
   "execution_count": null,
   "metadata": {},
   "outputs": [],
   "source": []
  },
  {
   "cell_type": "markdown",
   "metadata": {},
   "source": [
    "##  Знакомство с данными"
   ]
  },
  {
   "cell_type": "code",
   "execution_count": 1,
   "metadata": {},
   "outputs": [
    {
     "name": "stdout",
     "output_type": "stream",
     "text": [
      "Requirement already satisfied: missingno in /opt/conda/lib/python3.9/site-packages (0.5.2)\n",
      "Requirement already satisfied: scipy in /opt/conda/lib/python3.9/site-packages (from missingno) (1.9.1)\n",
      "Requirement already satisfied: seaborn in /opt/conda/lib/python3.9/site-packages (from missingno) (0.11.1)\n",
      "Requirement already satisfied: matplotlib in /opt/conda/lib/python3.9/site-packages (from missingno) (3.3.4)\n",
      "Requirement already satisfied: numpy in /opt/conda/lib/python3.9/site-packages (from missingno) (1.21.1)\n",
      "Requirement already satisfied: cycler>=0.10 in /opt/conda/lib/python3.9/site-packages (from matplotlib->missingno) (0.11.0)\n",
      "Requirement already satisfied: kiwisolver>=1.0.1 in /opt/conda/lib/python3.9/site-packages (from matplotlib->missingno) (1.4.4)\n",
      "Requirement already satisfied: pyparsing!=2.0.4,!=2.1.2,!=2.1.6,>=2.0.3 in /opt/conda/lib/python3.9/site-packages (from matplotlib->missingno) (2.4.7)\n",
      "Requirement already satisfied: pillow>=6.2.0 in /opt/conda/lib/python3.9/site-packages (from matplotlib->missingno) (8.4.0)\n",
      "Requirement already satisfied: python-dateutil>=2.1 in /opt/conda/lib/python3.9/site-packages (from matplotlib->missingno) (2.8.1)\n",
      "Requirement already satisfied: six>=1.5 in /opt/conda/lib/python3.9/site-packages (from python-dateutil>=2.1->matplotlib->missingno) (1.16.0)\n",
      "Requirement already satisfied: pandas>=0.23 in /opt/conda/lib/python3.9/site-packages (from seaborn->missingno) (1.2.4)\n",
      "Requirement already satisfied: pytz>=2017.3 in /opt/conda/lib/python3.9/site-packages (from pandas>=0.23->seaborn->missingno) (2021.1)\n",
      "Note: you may need to restart the kernel to use updated packages.\n"
     ]
    }
   ],
   "source": [
    "pip install missingno "
   ]
  },
  {
   "cell_type": "code",
   "execution_count": 2,
   "metadata": {},
   "outputs": [],
   "source": [
    "#Загрузим библиотеки\n",
    "import pandas as pd\n",
    "import matplotlib.pyplot as plt \n",
    "import numpy as np\n",
    "import seaborn as sns\n",
    "import scipy.stats as st\n",
    "from math import factorial\n",
    "from scipy.stats import binom, norm\n",
    "import missingno as msno\n",
    "import warnings\n",
    "warnings.filterwarnings(\"ignore\") # отключим предупреждения о возможных ошибках.\n",
    "\n",
    "\n",
    "#зададим стили для графиков\n",
    "sns.set_theme(style=\"white\", palette=\"bright\")\n",
    "#plt.style.use('seaborn-whitegrid')"
   ]
  },
  {
   "cell_type": "code",
   "execution_count": 3,
   "metadata": {},
   "outputs": [
    {
     "data": {
      "text/html": [
       "<div>\n",
       "<style scoped>\n",
       "    .dataframe tbody tr th:only-of-type {\n",
       "        vertical-align: middle;\n",
       "    }\n",
       "\n",
       "    .dataframe tbody tr th {\n",
       "        vertical-align: top;\n",
       "    }\n",
       "\n",
       "    .dataframe thead th {\n",
       "        text-align: right;\n",
       "    }\n",
       "</style>\n",
       "<table border=\"1\" class=\"dataframe\">\n",
       "  <thead>\n",
       "    <tr style=\"text-align: right;\">\n",
       "      <th></th>\n",
       "      <th>Name</th>\n",
       "      <th>Platform</th>\n",
       "      <th>Year_of_Release</th>\n",
       "      <th>Genre</th>\n",
       "      <th>NA_sales</th>\n",
       "      <th>EU_sales</th>\n",
       "      <th>JP_sales</th>\n",
       "      <th>Other_sales</th>\n",
       "      <th>Critic_Score</th>\n",
       "      <th>User_Score</th>\n",
       "      <th>Rating</th>\n",
       "    </tr>\n",
       "  </thead>\n",
       "  <tbody>\n",
       "    <tr>\n",
       "      <th>0</th>\n",
       "      <td>Wii Sports</td>\n",
       "      <td>Wii</td>\n",
       "      <td>2006.0</td>\n",
       "      <td>Sports</td>\n",
       "      <td>41.36</td>\n",
       "      <td>28.96</td>\n",
       "      <td>3.77</td>\n",
       "      <td>8.45</td>\n",
       "      <td>76.0</td>\n",
       "      <td>8</td>\n",
       "      <td>E</td>\n",
       "    </tr>\n",
       "    <tr>\n",
       "      <th>1</th>\n",
       "      <td>Super Mario Bros.</td>\n",
       "      <td>NES</td>\n",
       "      <td>1985.0</td>\n",
       "      <td>Platform</td>\n",
       "      <td>29.08</td>\n",
       "      <td>3.58</td>\n",
       "      <td>6.81</td>\n",
       "      <td>0.77</td>\n",
       "      <td>NaN</td>\n",
       "      <td>NaN</td>\n",
       "      <td>NaN</td>\n",
       "    </tr>\n",
       "    <tr>\n",
       "      <th>2</th>\n",
       "      <td>Mario Kart Wii</td>\n",
       "      <td>Wii</td>\n",
       "      <td>2008.0</td>\n",
       "      <td>Racing</td>\n",
       "      <td>15.68</td>\n",
       "      <td>12.76</td>\n",
       "      <td>3.79</td>\n",
       "      <td>3.29</td>\n",
       "      <td>82.0</td>\n",
       "      <td>8.3</td>\n",
       "      <td>E</td>\n",
       "    </tr>\n",
       "    <tr>\n",
       "      <th>3</th>\n",
       "      <td>Wii Sports Resort</td>\n",
       "      <td>Wii</td>\n",
       "      <td>2009.0</td>\n",
       "      <td>Sports</td>\n",
       "      <td>15.61</td>\n",
       "      <td>10.93</td>\n",
       "      <td>3.28</td>\n",
       "      <td>2.95</td>\n",
       "      <td>80.0</td>\n",
       "      <td>8</td>\n",
       "      <td>E</td>\n",
       "    </tr>\n",
       "    <tr>\n",
       "      <th>4</th>\n",
       "      <td>Pokemon Red/Pokemon Blue</td>\n",
       "      <td>GB</td>\n",
       "      <td>1996.0</td>\n",
       "      <td>Role-Playing</td>\n",
       "      <td>11.27</td>\n",
       "      <td>8.89</td>\n",
       "      <td>10.22</td>\n",
       "      <td>1.00</td>\n",
       "      <td>NaN</td>\n",
       "      <td>NaN</td>\n",
       "      <td>NaN</td>\n",
       "    </tr>\n",
       "  </tbody>\n",
       "</table>\n",
       "</div>"
      ],
      "text/plain": [
       "                       Name Platform  Year_of_Release         Genre  NA_sales  \\\n",
       "0                Wii Sports      Wii           2006.0        Sports     41.36   \n",
       "1         Super Mario Bros.      NES           1985.0      Platform     29.08   \n",
       "2            Mario Kart Wii      Wii           2008.0        Racing     15.68   \n",
       "3         Wii Sports Resort      Wii           2009.0        Sports     15.61   \n",
       "4  Pokemon Red/Pokemon Blue       GB           1996.0  Role-Playing     11.27   \n",
       "\n",
       "   EU_sales  JP_sales  Other_sales  Critic_Score User_Score Rating  \n",
       "0     28.96      3.77         8.45          76.0          8      E  \n",
       "1      3.58      6.81         0.77           NaN        NaN    NaN  \n",
       "2     12.76      3.79         3.29          82.0        8.3      E  \n",
       "3     10.93      3.28         2.95          80.0          8      E  \n",
       "4      8.89     10.22         1.00           NaN        NaN    NaN  "
      ]
     },
     "execution_count": 3,
     "metadata": {},
     "output_type": "execute_result"
    }
   ],
   "source": [
    "# откроем датасет\n",
    "try:\n",
    "    data_raw = pd.read_csv('files/games.csv') \n",
    "except:\n",
    "    data_raw = pd.read_csv('/datasets/games.csv') \n",
    "    \n",
    "pd.set_option(\"display.max_columns\", None)\n",
    "\n",
    "data_raw.head(5)"
   ]
  },
  {
   "cell_type": "markdown",
   "metadata": {},
   "source": [
    "<div class=\"alert alert-block alert-success\">\n",
    " \n",
    "### Комментарий ревьюера\n",
    "    \n",
    "#### Успех\n",
    "    \n",
    "Все библиотеки импортированы и проект сохранен в переменную"
   ]
  },
  {
   "cell_type": "code",
   "execution_count": 4,
   "metadata": {},
   "outputs": [
    {
     "name": "stdout",
     "output_type": "stream",
     "text": [
      "<class 'pandas.core.frame.DataFrame'>\n",
      "RangeIndex: 16715 entries, 0 to 16714\n",
      "Data columns (total 11 columns):\n",
      " #   Column           Non-Null Count  Dtype  \n",
      "---  ------           --------------  -----  \n",
      " 0   Name             16713 non-null  object \n",
      " 1   Platform         16715 non-null  object \n",
      " 2   Year_of_Release  16446 non-null  float64\n",
      " 3   Genre            16713 non-null  object \n",
      " 4   NA_sales         16715 non-null  float64\n",
      " 5   EU_sales         16715 non-null  float64\n",
      " 6   JP_sales         16715 non-null  float64\n",
      " 7   Other_sales      16715 non-null  float64\n",
      " 8   Critic_Score     8137 non-null   float64\n",
      " 9   User_Score       10014 non-null  object \n",
      " 10  Rating           9949 non-null   object \n",
      "dtypes: float64(6), object(5)\n",
      "memory usage: 1.4+ MB\n"
     ]
    }
   ],
   "source": [
    "# Общая информация о наборе данных, индекс, столбцы и тип данных, нулевые значения и использование памяти\n",
    "data_raw.info()"
   ]
  },
  {
   "cell_type": "code",
   "execution_count": 5,
   "metadata": {},
   "outputs": [
    {
     "data": {
      "text/plain": [
       "Name                  2\n",
       "Platform              0\n",
       "Year_of_Release     269\n",
       "Genre                 2\n",
       "NA_sales              0\n",
       "EU_sales              0\n",
       "JP_sales              0\n",
       "Other_sales           0\n",
       "Critic_Score       8578\n",
       "User_Score         6701\n",
       "Rating             6766\n",
       "dtype: int64"
      ]
     },
     "execution_count": 5,
     "metadata": {},
     "output_type": "execute_result"
    }
   ],
   "source": [
    "# Оценим количество пропущенных значений в каждом столбце\n",
    "data_raw.isna().sum()"
   ]
  },
  {
   "cell_type": "code",
   "execution_count": 6,
   "metadata": {},
   "outputs": [
    {
     "data": {
      "text/plain": [
       "<AxesSubplot:>"
      ]
     },
     "execution_count": 6,
     "metadata": {},
     "output_type": "execute_result"
    },
    {
     "data": {
      "image/png": "[encoded data removed]",
      "text/plain": [
       "<Figure size 1800x720 with 2 Axes>"
      ]
     },
     "metadata": {},
     "output_type": "display_data"
    }
   ],
   "source": [
    "#визуализируем пропуски в данных\n",
    "msno.matrix(data_raw)"
   ]
  },
  {
   "cell_type": "markdown",
   "metadata": {},
   "source": [
    "<div class=\"alert alert-block alert-success\">\n",
    " \n",
    "### Комментарий ревьюера\n",
    "    \n",
    "#### Успех\n",
    "    \n",
    "Здорово то, что используешь высокоуровневую библиотеку визуализации пропусков"
   ]
  },
  {
   "cell_type": "code",
   "execution_count": 7,
   "metadata": {},
   "outputs": [
    {
     "data": {
      "image/png": "[encoded data removed]",
      "text/plain": [
       "<Figure size 720x576 with 6 Axes>"
      ]
     },
     "metadata": {},
     "output_type": "display_data"
    }
   ],
   "source": [
    "# Визуализируем общие данные\n",
    "data_raw.hist(figsize=(10, 8), bins= 30)\n",
    "plt.show()"
   ]
  },
  {
   "cell_type": "markdown",
   "metadata": {},
   "source": [
    "<div class=\"alert alert-block alert-warning\">\n",
    " \n",
    "### Комментарий ревьюера\n",
    "    \n",
    "#### Совет\n",
    "    \n",
    "Для того, чтобы убрать текстовые предупреждения, используй plt.show()"
   ]
  },
  {
   "cell_type": "markdown",
   "metadata": {},
   "source": [
    "<div class=\"alert alert-block alert-info\">\n",
    "Вячеслав, привет! Спасибо за совет! Работает!\n",
    "</div>"
   ]
  },
  {
   "cell_type": "markdown",
   "metadata": {},
   "source": [
    "Общая предварительная оценка данных:\n",
    "\n",
    "- набор данных достаточен для анализа\n",
    "- есть пропуски, аномалии и выбросы\n",
    "- присутсвуют неправильные типы данных\n",
    "- названия столбцов не соответсвуют стандартам\n",
    "\n",
    "Выборка репрезентативна."
   ]
  },
  {
   "cell_type": "markdown",
   "metadata": {},
   "source": [
    "<div class=\"alert alert-block alert-success\">\n",
    " \n",
    "### Комментарий ревьюера\n",
    "    \n",
    "#### Успех\n",
    "    \n",
    "Хорошее начало. С данными мы познакомились первично и можем двигаться дальше"
   ]
  },
  {
   "cell_type": "markdown",
   "metadata": {},
   "source": [
    "##  Предобработка данных"
   ]
  },
  {
   "cell_type": "markdown",
   "metadata": {},
   "source": [
    "### Изменение названия столбцов"
   ]
  },
  {
   "cell_type": "code",
   "execution_count": 8,
   "metadata": {},
   "outputs": [],
   "source": [
    "#data_raw = data_raw.rename(columns={'Name': 'name', \n",
    "#                            'Platform': 'platform', \n",
    "#                            'Year_of_Release': 'year_of_release', \n",
    "#                            'Genre': 'genre', \n",
    "#                            'NA_sales': 'na_sales',\n",
    "#                            'EU_sales': 'eu_sales', \n",
    "#                            'JP_sales': 'jp_sales', \n",
    "#                            'NA_sales': 'na_sales', \n",
    "#                            'Other_sales': 'other_sales', \n",
    "#                            'Critic_Score': 'critic_score',  \n",
    "#                            'User_Score': 'user_score', \n",
    "#                            'Rating': 'rating', })\n",
    "\n",
    "data_raw.columns = data_raw.columns.str.lower()"
   ]
  },
  {
   "cell_type": "markdown",
   "metadata": {},
   "source": [
    "<div class=\"alert alert-block alert-warning\">\n",
    " \n",
    "### Комментарий ревьюера\n",
    "    \n",
    "#### Совет\n",
    "    \n",
    "Советую приводить к нижнему регистру так df.columns = df.columns.str.lower()"
   ]
  },
  {
   "cell_type": "markdown",
   "metadata": {},
   "source": [
    "<div class=\"alert alert-block alert-info\">\n",
    "Даже не подумала, что str.lower() можно к названию столбцов применить, а не только к содержимому. \n",
    "Так дейстивительно проще, быстрее и вероятность опечаток отсутсвует. Спасибо!\n",
    "</div>"
   ]
  },
  {
   "cell_type": "markdown",
   "metadata": {},
   "source": [
    "<div class=\"alert alert-block alert-success\">\n",
    " \n",
    "# Комментарий ревьюера ver.2 \n",
    "    \n",
    "#### Успех\n",
    "    \n",
    "Используй на будущее"
   ]
  },
  {
   "cell_type": "markdown",
   "metadata": {},
   "source": [
    "### Удаление дубликатов"
   ]
  },
  {
   "cell_type": "code",
   "execution_count": 9,
   "metadata": {},
   "outputs": [
    {
     "data": {
      "text/plain": [
       "0"
      ]
     },
     "execution_count": 9,
     "metadata": {},
     "output_type": "execute_result"
    }
   ],
   "source": [
    "data_raw.duplicated().sum()"
   ]
  },
  {
   "cell_type": "markdown",
   "metadata": {},
   "source": [
    "Явные дубликаты отсутствуют"
   ]
  },
  {
   "cell_type": "markdown",
   "metadata": {},
   "source": [
    "<div class=\"alert alert-block alert-success\">\n",
    " \n",
    "### Комментарий ревьюера\n",
    "    \n",
    "#### Успех\n",
    "    \n",
    "На явные дубликаты мы данные проверили. Отлично"
   ]
  },
  {
   "cell_type": "markdown",
   "metadata": {},
   "source": [
    "### Исследование и заполнение пропусков\n",
    "\n"
   ]
  },
  {
   "cell_type": "markdown",
   "metadata": {},
   "source": [
    "Есть много причин появления пропусков: технические или допущенные пользователями. \n",
    "\n",
    "Рассмотрим пропуски подробнее:"
   ]
  },
  {
   "cell_type": "code",
   "execution_count": 10,
   "metadata": {},
   "outputs": [
    {
     "data": {
      "text/html": [
       "<style  type=\"text/css\" >\n",
       "#T_4405a_row0_col0,#T_4405a_row1_col0,#T_4405a_row3_col0,#T_4405a_row4_col0,#T_4405a_row5_col0,#T_4405a_row6_col0,#T_4405a_row7_col0{\n",
       "            background-color:  #3b4cc0;\n",
       "            color:  #f1f1f1;\n",
       "        }#T_4405a_row2_col0{\n",
       "            background-color:  #445acc;\n",
       "            color:  #f1f1f1;\n",
       "        }#T_4405a_row8_col0{\n",
       "            background-color:  #b40426;\n",
       "            color:  #f1f1f1;\n",
       "        }#T_4405a_row9_col0{\n",
       "            background-color:  #f18d6f;\n",
       "            color:  #000000;\n",
       "        }#T_4405a_row10_col0{\n",
       "            background-color:  #f08a6c;\n",
       "            color:  #000000;\n",
       "        }</style><table id=\"T_4405a_\" ><thead>    <tr>        <th class=\"blank level0\" ></th>        <th class=\"col_heading level0 col0\" >0</th>    </tr></thead><tbody>\n",
       "                <tr>\n",
       "                        <th id=\"T_4405a_level0_row0\" class=\"row_heading level0 row0\" >name</th>\n",
       "                        <td id=\"T_4405a_row0_col0\" class=\"data row0 col0\" >0.011965</td>\n",
       "            </tr>\n",
       "            <tr>\n",
       "                        <th id=\"T_4405a_level0_row1\" class=\"row_heading level0 row1\" >platform</th>\n",
       "                        <td id=\"T_4405a_row1_col0\" class=\"data row1 col0\" >0.000000</td>\n",
       "            </tr>\n",
       "            <tr>\n",
       "                        <th id=\"T_4405a_level0_row2\" class=\"row_heading level0 row2\" >year_of_release</th>\n",
       "                        <td id=\"T_4405a_row2_col0\" class=\"data row2 col0\" >1.609333</td>\n",
       "            </tr>\n",
       "            <tr>\n",
       "                        <th id=\"T_4405a_level0_row3\" class=\"row_heading level0 row3\" >genre</th>\n",
       "                        <td id=\"T_4405a_row3_col0\" class=\"data row3 col0\" >0.011965</td>\n",
       "            </tr>\n",
       "            <tr>\n",
       "                        <th id=\"T_4405a_level0_row4\" class=\"row_heading level0 row4\" >na_sales</th>\n",
       "                        <td id=\"T_4405a_row4_col0\" class=\"data row4 col0\" >0.000000</td>\n",
       "            </tr>\n",
       "            <tr>\n",
       "                        <th id=\"T_4405a_level0_row5\" class=\"row_heading level0 row5\" >eu_sales</th>\n",
       "                        <td id=\"T_4405a_row5_col0\" class=\"data row5 col0\" >0.000000</td>\n",
       "            </tr>\n",
       "            <tr>\n",
       "                        <th id=\"T_4405a_level0_row6\" class=\"row_heading level0 row6\" >jp_sales</th>\n",
       "                        <td id=\"T_4405a_row6_col0\" class=\"data row6 col0\" >0.000000</td>\n",
       "            </tr>\n",
       "            <tr>\n",
       "                        <th id=\"T_4405a_level0_row7\" class=\"row_heading level0 row7\" >other_sales</th>\n",
       "                        <td id=\"T_4405a_row7_col0\" class=\"data row7 col0\" >0.000000</td>\n",
       "            </tr>\n",
       "            <tr>\n",
       "                        <th id=\"T_4405a_level0_row8\" class=\"row_heading level0 row8\" >critic_score</th>\n",
       "                        <td id=\"T_4405a_row8_col0\" class=\"data row8 col0\" >51.319174</td>\n",
       "            </tr>\n",
       "            <tr>\n",
       "                        <th id=\"T_4405a_level0_row9\" class=\"row_heading level0 row9\" >user_score</th>\n",
       "                        <td id=\"T_4405a_row9_col0\" class=\"data row9 col0\" >40.089740</td>\n",
       "            </tr>\n",
       "            <tr>\n",
       "                        <th id=\"T_4405a_level0_row10\" class=\"row_heading level0 row10\" >rating</th>\n",
       "                        <td id=\"T_4405a_row10_col0\" class=\"data row10 col0\" >40.478612</td>\n",
       "            </tr>\n",
       "    </tbody></table>"
      ],
      "text/plain": [
       "<pandas.io.formats.style.Styler at 0x7fb325537b20>"
      ]
     },
     "execution_count": 10,
     "metadata": {},
     "output_type": "execute_result"
    }
   ],
   "source": [
    "# Выведем долю пропущенных значений для каждого столбца датафрейма\n",
    "pd.DataFrame(data_raw.isna().mean()*100).style.background_gradient('coolwarm')\n"
   ]
  },
  {
   "cell_type": "markdown",
   "metadata": {},
   "source": [
    "<b>name, genre</b>\n",
    "\n",
    "- Предположение: техническая ошибка, пропуски в названии и в жанре взаимосвязаны.\n",
    "\n",
    "- Стретегия обработки: удалим все строки, в которых не указано название игры"
   ]
  },
  {
   "cell_type": "code",
   "execution_count": 11,
   "metadata": {},
   "outputs": [
    {
     "data": {
      "text/plain": [
       "(16715, 11)"
      ]
     },
     "execution_count": 11,
     "metadata": {},
     "output_type": "execute_result"
    }
   ],
   "source": [
    "data_raw.shape"
   ]
  },
  {
   "cell_type": "code",
   "execution_count": 12,
   "metadata": {},
   "outputs": [
    {
     "data": {
      "text/plain": [
       "(16713, 11)"
      ]
     },
     "execution_count": 12,
     "metadata": {},
     "output_type": "execute_result"
    }
   ],
   "source": [
    "data = data_raw.dropna(subset=['name'])\n",
    "data.shape"
   ]
  },
  {
   "cell_type": "markdown",
   "metadata": {},
   "source": [
    "<div class=\"alert alert-block alert-success\">\n",
    " \n",
    "### Комментарий ревьюера\n",
    "    \n",
    "#### Успех\n",
    "    \n",
    "Всего два пропуска и можно даже не задумываясь их удалить. Так будет и лучше, и быстрее"
   ]
  },
  {
   "cell_type": "markdown",
   "metadata": {},
   "source": [
    "<b>year_of_release</b>\n",
    "\n",
    "- Пропуски можно восстановить по названию игры, из других источников, но это трудоемкий процесс.\n",
    "- В названии некоторых игр присутсвует указание года, для этих игр пропуски в годе выпуска возьмем из названия.\n",
    "- У игр со значением рейтинга пользователей \"tbd\"  поставим 2016 год, рейтинг пользователей еще не успел сформироваться. О том, что игры свежие также свидетельствуют продажи близкие к нулю. \n",
    "- Оставшиеся значения заполним медианным значением, в отличии от среднего это будет целое число не требующее округления и не зависящее от экстремальных значений."
   ]
  },
  {
   "cell_type": "code",
   "execution_count": 13,
   "metadata": {},
   "outputs": [
    {
     "data": {
      "text/plain": [
       "269"
      ]
     },
     "execution_count": 13,
     "metadata": {},
     "output_type": "execute_result"
    }
   ],
   "source": [
    "data['year_of_release'].isna().sum()"
   ]
  },
  {
   "cell_type": "code",
   "execution_count": 14,
   "metadata": {},
   "outputs": [],
   "source": [
    "# восcтановим год выпуска из названия игры\n",
    "for index, row in data.iterrows():\n",
    "    if np.isnan(row['year_of_release']):\n",
    "        year = row['name'][-4:]\n",
    "        \n",
    "        try: \n",
    "            year = int(year)\n",
    "            if len(str(year)) == 4:\n",
    "                row['year_of_release'] = year\n",
    "                data.loc[index] = row\n",
    "        except: pass"
   ]
  },
  {
   "cell_type": "code",
   "execution_count": 15,
   "metadata": {},
   "outputs": [
    {
     "data": {
      "text/plain": [
       "254"
      ]
     },
     "execution_count": 15,
     "metadata": {},
     "output_type": "execute_result"
    }
   ],
   "source": [
    "data['year_of_release'].isna().sum()"
   ]
  },
  {
   "cell_type": "code",
   "execution_count": 16,
   "metadata": {},
   "outputs": [
    {
     "data": {
      "text/plain": [
       "(46, 11)"
      ]
     },
     "execution_count": 16,
     "metadata": {},
     "output_type": "execute_result"
    }
   ],
   "source": [
    "# Количество игр без указания года выпуска и рейтингом tbd\n",
    "data.query('user_score == \"tbd\" and year_of_release.isna()').shape"
   ]
  },
  {
   "cell_type": "code",
   "execution_count": 17,
   "metadata": {
    "scrolled": true
   },
   "outputs": [],
   "source": [
    "#Восстановим год выпуска по рейтингу пользователя tbd\n",
    "data.loc[(data['user_score'] == 'tbd') & (data['year_of_release'].isna()), 'year_of_release'] = 2016"
   ]
  },
  {
   "cell_type": "code",
   "execution_count": 18,
   "metadata": {},
   "outputs": [
    {
     "data": {
      "text/plain": [
       "(0, 11)"
      ]
     },
     "execution_count": 18,
     "metadata": {},
     "output_type": "execute_result"
    }
   ],
   "source": [
    "data.query('user_score == \"tbd\" and year_of_release.isna()').shape"
   ]
  },
  {
   "cell_type": "markdown",
   "metadata": {},
   "source": [
    "<div class=\"alert alert-block alert-warning\">\n",
    " \n",
    "### Комментарий ревьюера\n",
    "    \n",
    "#### Совет\n",
    "    \n",
    "В целом, тут пропусков было тоже мало. Можно было смело удаять, тем более рационально заменить их сложно"
   ]
  },
  {
   "cell_type": "code",
   "execution_count": 19,
   "metadata": {},
   "outputs": [],
   "source": [
    "#оставшиеся пропуски заменим медианным значением\n",
    "data.loc[data['year_of_release'].isna(), 'year_of_release'] = data['year_of_release'].median()"
   ]
  },
  {
   "cell_type": "code",
   "execution_count": 20,
   "metadata": {},
   "outputs": [
    {
     "data": {
      "text/plain": [
       "0"
      ]
     },
     "execution_count": 20,
     "metadata": {},
     "output_type": "execute_result"
    }
   ],
   "source": [
    "data['year_of_release'].isna().sum()"
   ]
  },
  {
   "cell_type": "markdown",
   "metadata": {},
   "source": [
    "<b>user_score </b>\n",
    "\n",
    "- Причиной пропусков может быть:\n",
    "\n",
    "            - недавний выход игры (рейтинг в процессе формирования)\n",
    "            - составители датасета не имели доступа к данным. \n",
    "\n",
    "<b>Стратегия заполнения</b>\n",
    "- Для игр, где известен рейтинг critic_score заменим пропуски в user_score на critic_score с поправкой на шкалу (разделим на 10)\n",
    "\n",
    "- Значения tdb (to be determined = будет определено) заменим 0 значением, чтобы в дальнейшем выделять данные игры на фоне других\n",
    "\n",
    "- Оставшиеся пропуски заменим медианным значением в зависимости от жанра игры. \n"
   ]
  },
  {
   "cell_type": "markdown",
   "metadata": {},
   "source": [
    "<div class=\"alert alert-block alert-success\">\n",
    " \n",
    "### Комментарий ревьюера\n",
    "    \n",
    "#### Успех\n",
    "    \n",
    "Причиня появления пропусков высказаны. Отлично вышло"
   ]
  },
  {
   "cell_type": "code",
   "execution_count": 21,
   "metadata": {},
   "outputs": [
    {
     "data": {
      "text/plain": [
       "(38, 11)"
      ]
     },
     "execution_count": 21,
     "metadata": {},
     "output_type": "execute_result"
    }
   ],
   "source": [
    "#Строки с пропусками в user_score и значением в critic_score\n",
    "data.query('user_score.isna() and not critic_score.isna()').shape"
   ]
  },
  {
   "cell_type": "code",
   "execution_count": 22,
   "metadata": {
    "scrolled": true
   },
   "outputs": [],
   "source": [
    "# Восстановим user_score из critic_score\n",
    "data.loc[(data['user_score'].isna()) & (~data['critic_score'].isna()), 'user_score'] =data['critic_score']/10"
   ]
  },
  {
   "cell_type": "code",
   "execution_count": 23,
   "metadata": {},
   "outputs": [
    {
     "data": {
      "text/plain": [
       "(0, 11)"
      ]
     },
     "execution_count": 23,
     "metadata": {},
     "output_type": "execute_result"
    }
   ],
   "source": [
    "data.query('user_score.isna() and not critic_score.isna()').shape"
   ]
  },
  {
   "cell_type": "code",
   "execution_count": 24,
   "metadata": {
    "scrolled": true
   },
   "outputs": [
    {
     "data": {
      "text/plain": [
       "(2424, 11)"
      ]
     },
     "execution_count": 24,
     "metadata": {},
     "output_type": "execute_result"
    }
   ],
   "source": [
    "# Количество строк, для которых рейтинг еще не определен\n",
    "data.query('user_score == \"tbd\"').shape"
   ]
  },
  {
   "cell_type": "code",
   "execution_count": 25,
   "metadata": {},
   "outputs": [],
   "source": [
    "#tdb - заменим на ноль, \n",
    "data.loc[data['user_score'] == 'tbd', 'user_score'] = 0"
   ]
  },
  {
   "cell_type": "code",
   "execution_count": 26,
   "metadata": {
    "scrolled": false
   },
   "outputs": [
    {
     "name": "stdout",
     "output_type": "stream",
     "text": [
      "Sports user_score =  5.1\n",
      "Platform user_score =  5.4\n",
      "Racing user_score =  5.1\n",
      "Role-Playing user_score =  6.2\n",
      "Puzzle user_score =  3.7\n",
      "Misc user_score =  4.2\n",
      "Shooter user_score =  6.1\n",
      "Simulation user_score =  4.5\n",
      "Action user_score =  5.6\n",
      "Fighting user_score =  5.9\n",
      "Adventure user_score =  5.0\n",
      "Strategy user_score =  5.8\n"
     ]
    }
   ],
   "source": [
    "# Оставшиеся пустые значения заменим средним рейтингом в зависимости от жанра игры\n",
    "# Предварительно изменим тип столбца для корректной работы с ним\n",
    "data['user_score'] = pd.to_numeric(data['user_score'])\n",
    "for genre in data['genre'].unique():\n",
    "    data.loc[data['user_score'].isna(), 'user_score'] = data.loc[(data['genre'] == genre)]['user_score'].mean().round(1)\n",
    "    print(genre, 'user_score = ', data.loc[(data['genre'] == genre)]['user_score'].mean().round(1))"
   ]
  },
  {
   "cell_type": "markdown",
   "metadata": {},
   "source": [
    "<div class=\"alert alert-block alert-warning\">\n",
    " \n",
    "### Комментарий ревьюера\n",
    "    \n",
    "#### Совет\n",
    "    \n",
    "Чтобы убрать красные предупреждения, ты можешь использовать https://sky.pro/media/kak-otklyuchit-preduprezhdeniya-v-python/"
   ]
  },
  {
   "cell_type": "markdown",
   "metadata": {},
   "source": [
    "<div class=\"alert alert-block alert-info\">\n",
    "    Ценно! Учла :)\n",
    "</div>\n",
    " "
   ]
  },
  {
   "cell_type": "markdown",
   "metadata": {},
   "source": [
    "<b>critic_score</b>\n",
    "\n",
    "- Более 50 процентов данных содержат пропуски в столбце critic_score. \n",
    "- Причиной отсутсвия значений помимо технической ошибки при работе с файлом, может быть и то обстоятельство, что далеко не все игры проходили оценку критиками. \n",
    "\n",
    "- Стратегия заполнения: \n",
    "\n",
    "        \n",
    "        - заполним средним значением в зависимости от жанра игры."
   ]
  },
  {
   "cell_type": "code",
   "execution_count": 27,
   "metadata": {},
   "outputs": [
    {
     "name": "stdout",
     "output_type": "stream",
     "text": [
      "Sports critic_score =  72.0\n",
      "Platform critic_score =  70.0\n",
      "Racing critic_score =  70.0\n",
      "Role-Playing critic_score =  72.0\n",
      "Puzzle critic_score =  70.0\n",
      "Misc critic_score =  70.0\n",
      "Shooter critic_score =  71.0\n",
      "Simulation critic_score =  71.0\n",
      "Action critic_score =  69.0\n",
      "Fighting critic_score =  71.0\n",
      "Adventure critic_score =  70.0\n",
      "Strategy critic_score =  72.0\n"
     ]
    }
   ],
   "source": [
    "for genre in data['genre'].unique():\n",
    "    data.loc[data['critic_score'].isna(), 'critic_score'] = data.loc[(data['genre'] == genre)]['critic_score'].mean().round(0)\n",
    "    print(genre, 'critic_score = ', data.loc[(data['genre'] == genre)]['critic_score'].mean().round(0) )"
   ]
  },
  {
   "cell_type": "markdown",
   "metadata": {},
   "source": [
    "<b>rating</b>\n",
    "\n",
    "ESRB Ratings - компания, основное направление деятельности — принятие и определение рейтингов для компьютерных видеоигр и другого развлекательного программного обеспечения в США и Канаде. Существует с 1992 года. Соответсвенно игры до этого года не имеют рейтинга от ESRB. Кроме того, ESRB может не иметь полного охвата современных игр. \n",
    "\n",
    "Стратегия обработки:\n",
    "- Введем категорию \"NO RATING\" для игр с пропусками в данном столбце"
   ]
  },
  {
   "cell_type": "code",
   "execution_count": 28,
   "metadata": {},
   "outputs": [
    {
     "data": {
      "text/plain": [
       "array(['E', nan, 'M', 'T', 'E10+', 'K-A', 'AO', 'EC', 'RP'], dtype=object)"
      ]
     },
     "execution_count": 28,
     "metadata": {},
     "output_type": "execute_result"
    }
   ],
   "source": [
    "data['rating'].unique()"
   ]
  },
  {
   "cell_type": "code",
   "execution_count": 29,
   "metadata": {},
   "outputs": [],
   "source": [
    "data['rating'] = data['rating'].fillna('NO RATING')"
   ]
  },
  {
   "cell_type": "code",
   "execution_count": 30,
   "metadata": {
    "scrolled": false
   },
   "outputs": [
    {
     "data": {
      "text/html": [
       "<style  type=\"text/css\" >\n",
       "#T_d69b0_row0_col0,#T_d69b0_row1_col0,#T_d69b0_row2_col0,#T_d69b0_row3_col0,#T_d69b0_row4_col0,#T_d69b0_row5_col0,#T_d69b0_row6_col0,#T_d69b0_row7_col0,#T_d69b0_row8_col0,#T_d69b0_row9_col0,#T_d69b0_row10_col0{\n",
       "            background-color:  #3b4cc0;\n",
       "            color:  #f1f1f1;\n",
       "        }</style><table id=\"T_d69b0_\" ><thead>    <tr>        <th class=\"blank level0\" ></th>        <th class=\"col_heading level0 col0\" >0</th>    </tr></thead><tbody>\n",
       "                <tr>\n",
       "                        <th id=\"T_d69b0_level0_row0\" class=\"row_heading level0 row0\" >name</th>\n",
       "                        <td id=\"T_d69b0_row0_col0\" class=\"data row0 col0\" >0.000000</td>\n",
       "            </tr>\n",
       "            <tr>\n",
       "                        <th id=\"T_d69b0_level0_row1\" class=\"row_heading level0 row1\" >platform</th>\n",
       "                        <td id=\"T_d69b0_row1_col0\" class=\"data row1 col0\" >0.000000</td>\n",
       "            </tr>\n",
       "            <tr>\n",
       "                        <th id=\"T_d69b0_level0_row2\" class=\"row_heading level0 row2\" >year_of_release</th>\n",
       "                        <td id=\"T_d69b0_row2_col0\" class=\"data row2 col0\" >0.000000</td>\n",
       "            </tr>\n",
       "            <tr>\n",
       "                        <th id=\"T_d69b0_level0_row3\" class=\"row_heading level0 row3\" >genre</th>\n",
       "                        <td id=\"T_d69b0_row3_col0\" class=\"data row3 col0\" >0.000000</td>\n",
       "            </tr>\n",
       "            <tr>\n",
       "                        <th id=\"T_d69b0_level0_row4\" class=\"row_heading level0 row4\" >na_sales</th>\n",
       "                        <td id=\"T_d69b0_row4_col0\" class=\"data row4 col0\" >0.000000</td>\n",
       "            </tr>\n",
       "            <tr>\n",
       "                        <th id=\"T_d69b0_level0_row5\" class=\"row_heading level0 row5\" >eu_sales</th>\n",
       "                        <td id=\"T_d69b0_row5_col0\" class=\"data row5 col0\" >0.000000</td>\n",
       "            </tr>\n",
       "            <tr>\n",
       "                        <th id=\"T_d69b0_level0_row6\" class=\"row_heading level0 row6\" >jp_sales</th>\n",
       "                        <td id=\"T_d69b0_row6_col0\" class=\"data row6 col0\" >0.000000</td>\n",
       "            </tr>\n",
       "            <tr>\n",
       "                        <th id=\"T_d69b0_level0_row7\" class=\"row_heading level0 row7\" >other_sales</th>\n",
       "                        <td id=\"T_d69b0_row7_col0\" class=\"data row7 col0\" >0.000000</td>\n",
       "            </tr>\n",
       "            <tr>\n",
       "                        <th id=\"T_d69b0_level0_row8\" class=\"row_heading level0 row8\" >critic_score</th>\n",
       "                        <td id=\"T_d69b0_row8_col0\" class=\"data row8 col0\" >0.000000</td>\n",
       "            </tr>\n",
       "            <tr>\n",
       "                        <th id=\"T_d69b0_level0_row9\" class=\"row_heading level0 row9\" >user_score</th>\n",
       "                        <td id=\"T_d69b0_row9_col0\" class=\"data row9 col0\" >0.000000</td>\n",
       "            </tr>\n",
       "            <tr>\n",
       "                        <th id=\"T_d69b0_level0_row10\" class=\"row_heading level0 row10\" >rating</th>\n",
       "                        <td id=\"T_d69b0_row10_col0\" class=\"data row10 col0\" >0.000000</td>\n",
       "            </tr>\n",
       "    </tbody></table>"
      ],
      "text/plain": [
       "<pandas.io.formats.style.Styler at 0x7fb31cdc7b50>"
      ]
     },
     "execution_count": 30,
     "metadata": {},
     "output_type": "execute_result"
    }
   ],
   "source": [
    "pd.DataFrame(data.isna().mean()*100).style.background_gradient('coolwarm')"
   ]
  },
  {
   "cell_type": "code",
   "execution_count": 31,
   "metadata": {},
   "outputs": [
    {
     "name": "stdout",
     "output_type": "stream",
     "text": [
      "Итоги заполнения пропусков:\n",
      "----------------------------------------\n",
      "Все пропуски заполнены\n",
      "Всего строк изначально: 16715\n",
      "Всего строк после заполнения: 16713\n",
      "Процент строк, который был удален: 0.011965300628178284 %\n"
     ]
    }
   ],
   "source": [
    "print('Итоги заполнения пропусков:')\n",
    "\n",
    "print('-'*40)\n",
    "print ('Все пропуски заполнены')\n",
    "print ('Всего строк изначально:', len(data_raw))\n",
    "print ('Всего строк после заполнения:', len(data))\n",
    "print ('Процент строк, который был удален:', ((len(data_raw) - len(data))/len(data_raw))*100, '%')\n"
   ]
  },
  {
   "cell_type": "markdown",
   "metadata": {},
   "source": [
    "<div class=\"alert alert-block alert-success\">\n",
    " \n",
    "### Комментарий ревьюера\n",
    "    \n",
    "#### Успех\n",
    "    \n",
    "Тут отлично вышло. Данные проработали касаемо пропусков. Идем далее "
   ]
  },
  {
   "cell_type": "markdown",
   "metadata": {},
   "source": [
    "###  Изменение типа данных"
   ]
  },
  {
   "cell_type": "code",
   "execution_count": 32,
   "metadata": {
    "scrolled": false
   },
   "outputs": [
    {
     "name": "stdout",
     "output_type": "stream",
     "text": [
      "<class 'pandas.core.frame.DataFrame'>\n",
      "Int64Index: 16713 entries, 0 to 16714\n",
      "Data columns (total 11 columns):\n",
      " #   Column           Non-Null Count  Dtype  \n",
      "---  ------           --------------  -----  \n",
      " 0   name             16713 non-null  object \n",
      " 1   platform         16713 non-null  object \n",
      " 2   year_of_release  16713 non-null  float64\n",
      " 3   genre            16713 non-null  object \n",
      " 4   na_sales         16713 non-null  float64\n",
      " 5   eu_sales         16713 non-null  float64\n",
      " 6   jp_sales         16713 non-null  float64\n",
      " 7   other_sales      16713 non-null  float64\n",
      " 8   critic_score     16713 non-null  float64\n",
      " 9   user_score       16713 non-null  float64\n",
      " 10  rating           16713 non-null  object \n",
      "dtypes: float64(7), object(4)\n",
      "memory usage: 2.0+ MB\n"
     ]
    }
   ],
   "source": [
    "data.info()"
   ]
  },
  {
   "cell_type": "code",
   "execution_count": 33,
   "metadata": {},
   "outputs": [
    {
     "data": {
      "text/html": [
       "<div>\n",
       "<style scoped>\n",
       "    .dataframe tbody tr th:only-of-type {\n",
       "        vertical-align: middle;\n",
       "    }\n",
       "\n",
       "    .dataframe tbody tr th {\n",
       "        vertical-align: top;\n",
       "    }\n",
       "\n",
       "    .dataframe thead th {\n",
       "        text-align: right;\n",
       "    }\n",
       "</style>\n",
       "<table border=\"1\" class=\"dataframe\">\n",
       "  <thead>\n",
       "    <tr style=\"text-align: right;\">\n",
       "      <th></th>\n",
       "      <th>year_of_release</th>\n",
       "      <th>na_sales</th>\n",
       "      <th>eu_sales</th>\n",
       "      <th>jp_sales</th>\n",
       "      <th>other_sales</th>\n",
       "      <th>critic_score</th>\n",
       "      <th>user_score</th>\n",
       "    </tr>\n",
       "  </thead>\n",
       "  <tbody>\n",
       "    <tr>\n",
       "      <th>count</th>\n",
       "      <td>16713.000000</td>\n",
       "      <td>16713.000000</td>\n",
       "      <td>16713.000000</td>\n",
       "      <td>16713.000000</td>\n",
       "      <td>16713.000000</td>\n",
       "      <td>16713.000000</td>\n",
       "      <td>16713.000000</td>\n",
       "    </tr>\n",
       "    <tr>\n",
       "      <th>mean</th>\n",
       "      <td>2006.517681</td>\n",
       "      <td>0.263302</td>\n",
       "      <td>0.145045</td>\n",
       "      <td>0.077625</td>\n",
       "      <td>0.047343</td>\n",
       "      <td>70.523664</td>\n",
       "      <td>5.283665</td>\n",
       "    </tr>\n",
       "    <tr>\n",
       "      <th>std</th>\n",
       "      <td>5.850146</td>\n",
       "      <td>0.813565</td>\n",
       "      <td>0.503359</td>\n",
       "      <td>0.308871</td>\n",
       "      <td>0.186742</td>\n",
       "      <td>9.842564</td>\n",
       "      <td>2.575635</td>\n",
       "    </tr>\n",
       "    <tr>\n",
       "      <th>min</th>\n",
       "      <td>1980.000000</td>\n",
       "      <td>0.000000</td>\n",
       "      <td>0.000000</td>\n",
       "      <td>0.000000</td>\n",
       "      <td>0.000000</td>\n",
       "      <td>13.000000</td>\n",
       "      <td>0.000000</td>\n",
       "    </tr>\n",
       "    <tr>\n",
       "      <th>25%</th>\n",
       "      <td>2003.000000</td>\n",
       "      <td>0.000000</td>\n",
       "      <td>0.000000</td>\n",
       "      <td>0.000000</td>\n",
       "      <td>0.000000</td>\n",
       "      <td>71.000000</td>\n",
       "      <td>5.100000</td>\n",
       "    </tr>\n",
       "    <tr>\n",
       "      <th>50%</th>\n",
       "      <td>2007.000000</td>\n",
       "      <td>0.080000</td>\n",
       "      <td>0.020000</td>\n",
       "      <td>0.000000</td>\n",
       "      <td>0.010000</td>\n",
       "      <td>72.000000</td>\n",
       "      <td>5.100000</td>\n",
       "    </tr>\n",
       "    <tr>\n",
       "      <th>75%</th>\n",
       "      <td>2010.000000</td>\n",
       "      <td>0.240000</td>\n",
       "      <td>0.110000</td>\n",
       "      <td>0.040000</td>\n",
       "      <td>0.030000</td>\n",
       "      <td>72.000000</td>\n",
       "      <td>7.300000</td>\n",
       "    </tr>\n",
       "    <tr>\n",
       "      <th>max</th>\n",
       "      <td>2016.000000</td>\n",
       "      <td>41.360000</td>\n",
       "      <td>28.960000</td>\n",
       "      <td>10.220000</td>\n",
       "      <td>10.570000</td>\n",
       "      <td>98.000000</td>\n",
       "      <td>9.700000</td>\n",
       "    </tr>\n",
       "  </tbody>\n",
       "</table>\n",
       "</div>"
      ],
      "text/plain": [
       "       year_of_release      na_sales      eu_sales      jp_sales  \\\n",
       "count     16713.000000  16713.000000  16713.000000  16713.000000   \n",
       "mean       2006.517681      0.263302      0.145045      0.077625   \n",
       "std           5.850146      0.813565      0.503359      0.308871   \n",
       "min        1980.000000      0.000000      0.000000      0.000000   \n",
       "25%        2003.000000      0.000000      0.000000      0.000000   \n",
       "50%        2007.000000      0.080000      0.020000      0.000000   \n",
       "75%        2010.000000      0.240000      0.110000      0.040000   \n",
       "max        2016.000000     41.360000     28.960000     10.220000   \n",
       "\n",
       "        other_sales  critic_score    user_score  \n",
       "count  16713.000000  16713.000000  16713.000000  \n",
       "mean       0.047343     70.523664      5.283665  \n",
       "std        0.186742      9.842564      2.575635  \n",
       "min        0.000000     13.000000      0.000000  \n",
       "25%        0.000000     71.000000      5.100000  \n",
       "50%        0.010000     72.000000      5.100000  \n",
       "75%        0.030000     72.000000      7.300000  \n",
       "max       10.570000     98.000000      9.700000  "
      ]
     },
     "execution_count": 33,
     "metadata": {},
     "output_type": "execute_result"
    }
   ],
   "source": [
    "data.describe()"
   ]
  },
  {
   "cell_type": "markdown",
   "metadata": {},
   "source": [
    "В столбце <b>year_of_release</b> изменим тип данных на int,\n",
    "\n",
    "<b>critic_score</b> на int,\n",
    "так как тип данных предполагает целые числа.\n",
    "\n",
    "<b>user_score</b> на ранее изменили на float,\n",
    "\n"
   ]
  },
  {
   "cell_type": "code",
   "execution_count": 34,
   "metadata": {},
   "outputs": [],
   "source": [
    "data[['year_of_release', 'critic_score']] = data[['year_of_release', 'critic_score']].astype(int)"
   ]
  },
  {
   "cell_type": "markdown",
   "metadata": {},
   "source": [
    "<div class=\"alert alert-block alert-warning\">\n",
    " \n",
    "### Комментарий ревьюера\n",
    "    \n",
    "#### Совет\n",
    "    \n",
    "Для экономии вычислительных ресурсов используй int32"
   ]
  },
  {
   "cell_type": "markdown",
   "metadata": {},
   "source": [
    "###  Добавление новых столбцов\n"
   ]
  },
  {
   "cell_type": "markdown",
   "metadata": {},
   "source": [
    "Добавим столбец total_sales - суммарные продажи во всех регионах"
   ]
  },
  {
   "cell_type": "code",
   "execution_count": 35,
   "metadata": {},
   "outputs": [
    {
     "data": {
      "text/html": [
       "<div>\n",
       "<style scoped>\n",
       "    .dataframe tbody tr th:only-of-type {\n",
       "        vertical-align: middle;\n",
       "    }\n",
       "\n",
       "    .dataframe tbody tr th {\n",
       "        vertical-align: top;\n",
       "    }\n",
       "\n",
       "    .dataframe thead th {\n",
       "        text-align: right;\n",
       "    }\n",
       "</style>\n",
       "<table border=\"1\" class=\"dataframe\">\n",
       "  <thead>\n",
       "    <tr style=\"text-align: right;\">\n",
       "      <th></th>\n",
       "      <th>name</th>\n",
       "      <th>platform</th>\n",
       "      <th>year_of_release</th>\n",
       "      <th>genre</th>\n",
       "      <th>na_sales</th>\n",
       "      <th>eu_sales</th>\n",
       "      <th>jp_sales</th>\n",
       "      <th>other_sales</th>\n",
       "      <th>critic_score</th>\n",
       "      <th>user_score</th>\n",
       "      <th>rating</th>\n",
       "      <th>total_sales</th>\n",
       "    </tr>\n",
       "  </thead>\n",
       "  <tbody>\n",
       "    <tr>\n",
       "      <th>0</th>\n",
       "      <td>Wii Sports</td>\n",
       "      <td>Wii</td>\n",
       "      <td>2006</td>\n",
       "      <td>Sports</td>\n",
       "      <td>41.36</td>\n",
       "      <td>28.96</td>\n",
       "      <td>3.77</td>\n",
       "      <td>8.45</td>\n",
       "      <td>76</td>\n",
       "      <td>8.0</td>\n",
       "      <td>E</td>\n",
       "      <td>82.54</td>\n",
       "    </tr>\n",
       "    <tr>\n",
       "      <th>1</th>\n",
       "      <td>Super Mario Bros.</td>\n",
       "      <td>NES</td>\n",
       "      <td>1985</td>\n",
       "      <td>Platform</td>\n",
       "      <td>29.08</td>\n",
       "      <td>3.58</td>\n",
       "      <td>6.81</td>\n",
       "      <td>0.77</td>\n",
       "      <td>72</td>\n",
       "      <td>5.1</td>\n",
       "      <td>NO RATING</td>\n",
       "      <td>40.24</td>\n",
       "    </tr>\n",
       "    <tr>\n",
       "      <th>2</th>\n",
       "      <td>Mario Kart Wii</td>\n",
       "      <td>Wii</td>\n",
       "      <td>2008</td>\n",
       "      <td>Racing</td>\n",
       "      <td>15.68</td>\n",
       "      <td>12.76</td>\n",
       "      <td>3.79</td>\n",
       "      <td>3.29</td>\n",
       "      <td>82</td>\n",
       "      <td>8.3</td>\n",
       "      <td>E</td>\n",
       "      <td>35.52</td>\n",
       "    </tr>\n",
       "    <tr>\n",
       "      <th>3</th>\n",
       "      <td>Wii Sports Resort</td>\n",
       "      <td>Wii</td>\n",
       "      <td>2009</td>\n",
       "      <td>Sports</td>\n",
       "      <td>15.61</td>\n",
       "      <td>10.93</td>\n",
       "      <td>3.28</td>\n",
       "      <td>2.95</td>\n",
       "      <td>80</td>\n",
       "      <td>8.0</td>\n",
       "      <td>E</td>\n",
       "      <td>32.77</td>\n",
       "    </tr>\n",
       "    <tr>\n",
       "      <th>4</th>\n",
       "      <td>Pokemon Red/Pokemon Blue</td>\n",
       "      <td>GB</td>\n",
       "      <td>1996</td>\n",
       "      <td>Role-Playing</td>\n",
       "      <td>11.27</td>\n",
       "      <td>8.89</td>\n",
       "      <td>10.22</td>\n",
       "      <td>1.00</td>\n",
       "      <td>72</td>\n",
       "      <td>5.1</td>\n",
       "      <td>NO RATING</td>\n",
       "      <td>31.38</td>\n",
       "    </tr>\n",
       "  </tbody>\n",
       "</table>\n",
       "</div>"
      ],
      "text/plain": [
       "                       name platform  year_of_release         genre  na_sales  \\\n",
       "0                Wii Sports      Wii             2006        Sports     41.36   \n",
       "1         Super Mario Bros.      NES             1985      Platform     29.08   \n",
       "2            Mario Kart Wii      Wii             2008        Racing     15.68   \n",
       "3         Wii Sports Resort      Wii             2009        Sports     15.61   \n",
       "4  Pokemon Red/Pokemon Blue       GB             1996  Role-Playing     11.27   \n",
       "\n",
       "   eu_sales  jp_sales  other_sales  critic_score  user_score     rating  \\\n",
       "0     28.96      3.77         8.45            76         8.0          E   \n",
       "1      3.58      6.81         0.77            72         5.1  NO RATING   \n",
       "2     12.76      3.79         3.29            82         8.3          E   \n",
       "3     10.93      3.28         2.95            80         8.0          E   \n",
       "4      8.89     10.22         1.00            72         5.1  NO RATING   \n",
       "\n",
       "   total_sales  \n",
       "0        82.54  \n",
       "1        40.24  \n",
       "2        35.52  \n",
       "3        32.77  \n",
       "4        31.38  "
      ]
     },
     "execution_count": 35,
     "metadata": {},
     "output_type": "execute_result"
    }
   ],
   "source": [
    "data['total_sales'] = data[['na_sales', 'jp_sales', 'eu_sales', 'other_sales']].sum(axis=1)\n",
    "#data['total_sales'] = data['na_sales']+data['jp_sales']+data['eu_sales']+data['other_sales']\n",
    "data.head(5)"
   ]
  },
  {
   "cell_type": "markdown",
   "metadata": {},
   "source": [
    "<div class=\"alert alert-block alert-warning\">\n",
    " \n",
    "### Комментарий ревьюера\n",
    "    \n",
    "#### Совет\n",
    "    \n",
    "Для суммирования ты можешь использовать такой метод `df['x'] = df[['a', 'b', 'c']].sum(axis=1)`"
   ]
  },
  {
   "cell_type": "markdown",
   "metadata": {},
   "source": [
    "<div class=\"alert alert-block alert-danger\">\n",
    " \n",
    "### Комментарий ревьюера\n",
    "    \n",
    "#### Ошибка\n",
    "    \n",
    "Здесь не хватает промежуточного вывода по итогу раздела"
   ]
  },
  {
   "cell_type": "markdown",
   "metadata": {},
   "source": [
    "<div class=\"alert alert-block alert-success\">\n",
    " \n",
    "# Комментарий ревьюера ver.2 \n",
    "    \n",
    "#### Успех\n",
    "    \n",
    "Исправлено и тут "
   ]
  },
  {
   "cell_type": "markdown",
   "metadata": {},
   "source": [
    "В ходе обработки исходных данных:\n",
    "\n",
    "- Строки без названия игр удалены (менее 0.1% от всех данных)\n",
    "- Пропуски в столбцах с пользовательским рейтингом частично восстановлены из столбца с оценкой критиков, остальные заменены средним значением в зависимости от жанра игры.\n",
    "- Пропуски в столбцах с оценкой критиков заменены на средние значения в зависимости от жанра.\n",
    "- Пропуски в столбце рейтинга заменены на новую категории \"Без рейтинга\"\n",
    "- тип данных в столбцах year_of_release, critic_score, user_score изменен на оптимальный. Для экономии ресурсов и оптимальной дальнейшей работы.\n",
    "- Добавлен новый столбец - суммарные продажи во всех регионах."
   ]
  },
  {
   "cell_type": "markdown",
   "metadata": {},
   "source": [
    "<div class=\"alert alert-block alert-info\">\n",
    "Исправила.\n",
    "</div>"
   ]
  },
  {
   "cell_type": "markdown",
   "metadata": {},
   "source": [
    "## Исследовательский анализ данных"
   ]
  },
  {
   "cell_type": "markdown",
   "metadata": {},
   "source": [
    "### Распределение игр по годам"
   ]
  },
  {
   "cell_type": "markdown",
   "metadata": {},
   "source": [
    "Посмотрим, сколько игр выпускалось в разные годы. "
   ]
  },
  {
   "cell_type": "code",
   "execution_count": 36,
   "metadata": {},
   "outputs": [
    {
     "data": {
      "image/png": "[encoded data removed]",
      "text/plain": [
       "<Figure size 720x576 with 1 Axes>"
      ]
     },
     "metadata": {},
     "output_type": "display_data"
    }
   ],
   "source": [
    "#выделим данные для построения графика\n",
    "games_by_year = pd.pivot_table(data, index='year_of_release', values='name', aggfunc='count').reset_index()\n",
    "\n",
    "#построим график зависисмости количества игр от года выпуска\n",
    "\n",
    "fig, ax = plt.subplots(figsize = (10,8))\n",
    "ax.set_title('Зависимосить количества игр от года выпуска', fontsize = 20)\n",
    "ax.set_xlabel('Год выпуска игры')\n",
    "ax.set_ylabel('Количество игр')\n",
    "ax.grid(True)\n",
    "ax.plot(games_by_year['year_of_release'], games_by_year['name'], marker='o', linestyle='dashed')\n",
    "plt.show()\n"
   ]
  },
  {
   "cell_type": "markdown",
   "metadata": {},
   "source": [
    "Как видно из графика до 1990г включительно количество выпускаемых игр было близко к нулю. Развитие игровой индустрии активно началось после 1990г, поэтому для дальнейшего анализа можно оставить период с 1990г по настоящее время. "
   ]
  },
  {
   "cell_type": "markdown",
   "metadata": {},
   "source": [
    "<div class=\"alert alert-block alert-success\">\n",
    " \n",
    "### Комментарий ревьюера\n",
    "    \n",
    "#### Успех\n",
    "    \n",
    "Хороший график вышел. По нему отлично видно то, как ведет себя выпуск платформ с каждым годом"
   ]
  },
  {
   "cell_type": "markdown",
   "metadata": {},
   "source": [
    "### Распределение продаж в зависимости от платформы"
   ]
  },
  {
   "cell_type": "markdown",
   "metadata": {},
   "source": [
    "Посмотрим, как менялись продажи по платформам. "
   ]
  },
  {
   "cell_type": "code",
   "execution_count": 37,
   "metadata": {},
   "outputs": [
    {
     "data": {
      "text/plain": [
       "array(['Wii', 'NES', 'GB', 'DS', 'X360', 'PS3', 'PS2', 'SNES', 'GBA',\n",
       "       'PS4', '3DS', 'N64', 'PS', 'XB', 'PC', '2600', 'PSP', 'XOne',\n",
       "       'WiiU', 'GC', 'GEN', 'DC', 'PSV', 'SAT', 'SCD', 'WS', 'NG', 'TG16',\n",
       "       '3DO', 'GG', 'PCFX'], dtype=object)"
      ]
     },
     "execution_count": 37,
     "metadata": {},
     "output_type": "execute_result"
    }
   ],
   "source": [
    "# Список платформ\n",
    "data['platform'].unique()"
   ]
  },
  {
   "cell_type": "code",
   "execution_count": 38,
   "metadata": {},
   "outputs": [
    {
     "data": {
      "text/html": [
       "<div>\n",
       "<style scoped>\n",
       "    .dataframe tbody tr th:only-of-type {\n",
       "        vertical-align: middle;\n",
       "    }\n",
       "\n",
       "    .dataframe tbody tr th {\n",
       "        vertical-align: top;\n",
       "    }\n",
       "\n",
       "    .dataframe thead th {\n",
       "        text-align: right;\n",
       "    }\n",
       "</style>\n",
       "<table border=\"1\" class=\"dataframe\">\n",
       "  <thead>\n",
       "    <tr style=\"text-align: right;\">\n",
       "      <th></th>\n",
       "      <th>platform</th>\n",
       "      <th>total_sales</th>\n",
       "    </tr>\n",
       "  </thead>\n",
       "  <tbody>\n",
       "    <tr>\n",
       "      <th>0</th>\n",
       "      <td>PS2</td>\n",
       "      <td>1255.77</td>\n",
       "    </tr>\n",
       "    <tr>\n",
       "      <th>1</th>\n",
       "      <td>X360</td>\n",
       "      <td>971.42</td>\n",
       "    </tr>\n",
       "    <tr>\n",
       "      <th>2</th>\n",
       "      <td>PS3</td>\n",
       "      <td>939.65</td>\n",
       "    </tr>\n",
       "    <tr>\n",
       "      <th>3</th>\n",
       "      <td>Wii</td>\n",
       "      <td>907.51</td>\n",
       "    </tr>\n",
       "    <tr>\n",
       "      <th>4</th>\n",
       "      <td>DS</td>\n",
       "      <td>806.12</td>\n",
       "    </tr>\n",
       "    <tr>\n",
       "      <th>5</th>\n",
       "      <td>PS</td>\n",
       "      <td>730.86</td>\n",
       "    </tr>\n",
       "    <tr>\n",
       "      <th>6</th>\n",
       "      <td>GBA</td>\n",
       "      <td>317.85</td>\n",
       "    </tr>\n",
       "    <tr>\n",
       "      <th>7</th>\n",
       "      <td>PS4</td>\n",
       "      <td>314.14</td>\n",
       "    </tr>\n",
       "    <tr>\n",
       "      <th>8</th>\n",
       "      <td>PSP</td>\n",
       "      <td>294.05</td>\n",
       "    </tr>\n",
       "    <tr>\n",
       "      <th>9</th>\n",
       "      <td>PC</td>\n",
       "      <td>259.52</td>\n",
       "    </tr>\n",
       "  </tbody>\n",
       "</table>\n",
       "</div>"
      ],
      "text/plain": [
       "  platform  total_sales\n",
       "0      PS2      1255.77\n",
       "1     X360       971.42\n",
       "2      PS3       939.65\n",
       "3      Wii       907.51\n",
       "4       DS       806.12\n",
       "5       PS       730.86\n",
       "6      GBA       317.85\n",
       "7      PS4       314.14\n",
       "8      PSP       294.05\n",
       "9       PC       259.52"
      ]
     },
     "execution_count": 38,
     "metadata": {},
     "output_type": "execute_result"
    }
   ],
   "source": [
    "#Выберем платформы с наибольшими суммарными продажами\n",
    "pd.pivot_table(data, \n",
    "               index = 'platform', \n",
    "               values = 'total_sales', \n",
    "               aggfunc = 'sum').sort_values(by='total_sales', ascending=False).reset_index().head(10)\n"
   ]
  },
  {
   "cell_type": "markdown",
   "metadata": {},
   "source": [
    "<div class=\"alert alert-block alert-success\">\n",
    " \n",
    "### Комментарий ревьюера\n",
    "    \n",
    "#### Успех\n",
    "    \n",
    "Рейтинг по суммарным продажм получен"
   ]
  },
  {
   "cell_type": "code",
   "execution_count": 39,
   "metadata": {},
   "outputs": [
    {
     "data": {
      "text/html": [
       "<div>\n",
       "<style scoped>\n",
       "    .dataframe tbody tr th:only-of-type {\n",
       "        vertical-align: middle;\n",
       "    }\n",
       "\n",
       "    .dataframe tbody tr th {\n",
       "        vertical-align: top;\n",
       "    }\n",
       "\n",
       "    .dataframe thead th {\n",
       "        text-align: right;\n",
       "    }\n",
       "</style>\n",
       "<table border=\"1\" class=\"dataframe\">\n",
       "  <thead>\n",
       "    <tr style=\"text-align: right;\">\n",
       "      <th>platform</th>\n",
       "      <th>year_of_release</th>\n",
       "      <th>PS2</th>\n",
       "      <th>X360</th>\n",
       "      <th>PS3</th>\n",
       "      <th>Wii</th>\n",
       "      <th>DS</th>\n",
       "      <th>PS</th>\n",
       "      <th>GBA</th>\n",
       "      <th>PS4</th>\n",
       "      <th>PSP</th>\n",
       "      <th>PC</th>\n",
       "    </tr>\n",
       "  </thead>\n",
       "  <tbody>\n",
       "    <tr>\n",
       "      <th>27</th>\n",
       "      <td>2007</td>\n",
       "      <td>83.41</td>\n",
       "      <td>105.46</td>\n",
       "      <td>81.50</td>\n",
       "      <td>168.00</td>\n",
       "      <td>148.57</td>\n",
       "      <td>2.98</td>\n",
       "      <td>5.62</td>\n",
       "      <td>NaN</td>\n",
       "      <td>50.94</td>\n",
       "      <td>13.04</td>\n",
       "    </tr>\n",
       "    <tr>\n",
       "      <th>28</th>\n",
       "      <td>2008</td>\n",
       "      <td>53.90</td>\n",
       "      <td>135.26</td>\n",
       "      <td>118.52</td>\n",
       "      <td>171.32</td>\n",
       "      <td>145.32</td>\n",
       "      <td>NaN</td>\n",
       "      <td>NaN</td>\n",
       "      <td>NaN</td>\n",
       "      <td>34.56</td>\n",
       "      <td>12.42</td>\n",
       "    </tr>\n",
       "    <tr>\n",
       "      <th>29</th>\n",
       "      <td>2009</td>\n",
       "      <td>26.40</td>\n",
       "      <td>120.29</td>\n",
       "      <td>130.93</td>\n",
       "      <td>206.97</td>\n",
       "      <td>119.54</td>\n",
       "      <td>NaN</td>\n",
       "      <td>NaN</td>\n",
       "      <td>NaN</td>\n",
       "      <td>37.78</td>\n",
       "      <td>16.91</td>\n",
       "    </tr>\n",
       "    <tr>\n",
       "      <th>30</th>\n",
       "      <td>2010</td>\n",
       "      <td>5.64</td>\n",
       "      <td>170.03</td>\n",
       "      <td>142.17</td>\n",
       "      <td>127.95</td>\n",
       "      <td>85.02</td>\n",
       "      <td>NaN</td>\n",
       "      <td>NaN</td>\n",
       "      <td>NaN</td>\n",
       "      <td>35.04</td>\n",
       "      <td>24.28</td>\n",
       "    </tr>\n",
       "    <tr>\n",
       "      <th>31</th>\n",
       "      <td>2011</td>\n",
       "      <td>0.45</td>\n",
       "      <td>143.89</td>\n",
       "      <td>156.78</td>\n",
       "      <td>59.65</td>\n",
       "      <td>26.18</td>\n",
       "      <td>NaN</td>\n",
       "      <td>NaN</td>\n",
       "      <td>NaN</td>\n",
       "      <td>17.82</td>\n",
       "      <td>35.03</td>\n",
       "    </tr>\n",
       "    <tr>\n",
       "      <th>32</th>\n",
       "      <td>2012</td>\n",
       "      <td>NaN</td>\n",
       "      <td>99.74</td>\n",
       "      <td>107.36</td>\n",
       "      <td>21.71</td>\n",
       "      <td>11.01</td>\n",
       "      <td>NaN</td>\n",
       "      <td>NaN</td>\n",
       "      <td>NaN</td>\n",
       "      <td>7.69</td>\n",
       "      <td>23.22</td>\n",
       "    </tr>\n",
       "    <tr>\n",
       "      <th>33</th>\n",
       "      <td>2013</td>\n",
       "      <td>NaN</td>\n",
       "      <td>88.58</td>\n",
       "      <td>113.25</td>\n",
       "      <td>8.59</td>\n",
       "      <td>1.54</td>\n",
       "      <td>NaN</td>\n",
       "      <td>NaN</td>\n",
       "      <td>25.99</td>\n",
       "      <td>3.14</td>\n",
       "      <td>12.38</td>\n",
       "    </tr>\n",
       "    <tr>\n",
       "      <th>34</th>\n",
       "      <td>2014</td>\n",
       "      <td>NaN</td>\n",
       "      <td>34.74</td>\n",
       "      <td>47.76</td>\n",
       "      <td>3.75</td>\n",
       "      <td>NaN</td>\n",
       "      <td>NaN</td>\n",
       "      <td>NaN</td>\n",
       "      <td>100.00</td>\n",
       "      <td>0.24</td>\n",
       "      <td>13.28</td>\n",
       "    </tr>\n",
       "    <tr>\n",
       "      <th>35</th>\n",
       "      <td>2015</td>\n",
       "      <td>NaN</td>\n",
       "      <td>11.96</td>\n",
       "      <td>16.82</td>\n",
       "      <td>1.14</td>\n",
       "      <td>NaN</td>\n",
       "      <td>NaN</td>\n",
       "      <td>NaN</td>\n",
       "      <td>118.90</td>\n",
       "      <td>0.12</td>\n",
       "      <td>8.52</td>\n",
       "    </tr>\n",
       "    <tr>\n",
       "      <th>36</th>\n",
       "      <td>2016</td>\n",
       "      <td>1.07</td>\n",
       "      <td>1.60</td>\n",
       "      <td>3.60</td>\n",
       "      <td>1.28</td>\n",
       "      <td>1.70</td>\n",
       "      <td>0.30</td>\n",
       "      <td>2.75</td>\n",
       "      <td>69.25</td>\n",
       "      <td>0.50</td>\n",
       "      <td>5.25</td>\n",
       "    </tr>\n",
       "  </tbody>\n",
       "</table>\n",
       "</div>"
      ],
      "text/plain": [
       "platform  year_of_release    PS2    X360     PS3     Wii      DS    PS   GBA  \\\n",
       "27                   2007  83.41  105.46   81.50  168.00  148.57  2.98  5.62   \n",
       "28                   2008  53.90  135.26  118.52  171.32  145.32   NaN   NaN   \n",
       "29                   2009  26.40  120.29  130.93  206.97  119.54   NaN   NaN   \n",
       "30                   2010   5.64  170.03  142.17  127.95   85.02   NaN   NaN   \n",
       "31                   2011   0.45  143.89  156.78   59.65   26.18   NaN   NaN   \n",
       "32                   2012    NaN   99.74  107.36   21.71   11.01   NaN   NaN   \n",
       "33                   2013    NaN   88.58  113.25    8.59    1.54   NaN   NaN   \n",
       "34                   2014    NaN   34.74   47.76    3.75     NaN   NaN   NaN   \n",
       "35                   2015    NaN   11.96   16.82    1.14     NaN   NaN   NaN   \n",
       "36                   2016   1.07    1.60    3.60    1.28    1.70  0.30  2.75   \n",
       "\n",
       "platform     PS4    PSP     PC  \n",
       "27           NaN  50.94  13.04  \n",
       "28           NaN  34.56  12.42  \n",
       "29           NaN  37.78  16.91  \n",
       "30           NaN  35.04  24.28  \n",
       "31           NaN  17.82  35.03  \n",
       "32           NaN   7.69  23.22  \n",
       "33         25.99   3.14  12.38  \n",
       "34        100.00   0.24  13.28  \n",
       "35        118.90   0.12   8.52  \n",
       "36         69.25   0.50   5.25  "
      ]
     },
     "execution_count": 39,
     "metadata": {},
     "output_type": "execute_result"
    }
   ],
   "source": [
    "top_platform = ['PS2', 'X360', 'PS3', 'Wii', 'DS', 'PS', 'GBA', 'PS4', 'PSP', 'PC']\n",
    "# Cгруппируем данные для построения графиков\n",
    "platform = pd.pivot_table(data, \n",
    "                          index = 'year_of_release', \n",
    "                          columns = 'platform',\n",
    "                          values = 'total_sales', aggfunc = 'sum').reset_index()\n",
    "platform = platform[['year_of_release', 'PS2', 'X360', 'PS3', 'Wii', 'DS', 'PS', 'GBA', 'PS4', 'PSP', 'PC' ]].iloc[10:]\n",
    "platform.tail(10)"
   ]
  },
  {
   "cell_type": "code",
   "execution_count": 40,
   "metadata": {},
   "outputs": [
    {
     "data": {
      "image/png": "[encoded data removed]",
      "text/plain": [
       "<Figure size 864x576 with 1 Axes>"
      ]
     },
     "metadata": {},
     "output_type": "display_data"
    }
   ],
   "source": [
    "# Построим распределение по годам для платформ с наибольшими суммарными продажами по годам\n",
    "\n",
    "fig, ax = plt.subplots(figsize = (12,8))\n",
    "\n",
    "for i in top_platform:\n",
    "    ax.plot(platform['year_of_release'], platform[i],'o-', label=i)\n",
    "    \n",
    "ax.grid(True)\n",
    "ax.set_title('Распределение по годам для платформ с наибольшими суммарными продажами', fontsize = 20)\n",
    "ax.set_xlabel('Год')\n",
    "ax.set_ylabel('Продажи')\n",
    "\n",
    "ax.legend()\n",
    "plt.show()"
   ]
  },
  {
   "cell_type": "markdown",
   "metadata": {},
   "source": [
    "<div class=\"alert alert-block alert-success\">\n",
    " \n",
    "### Комментарий ревьюера\n",
    "    \n",
    "#### Успех\n",
    "    \n",
    "По выводу отлично вышло. Платформы, действительно, живут в основнов до 7-8 лет "
   ]
  },
  {
   "cell_type": "markdown",
   "metadata": {},
   "source": [
    "На графике видно, средний срок популярности/ \"жизни\" платформы составляет около 6-10 лет. Лидеры по продолжительности - это PS3 и X360, почти 10 лет. PC - вне времени."
   ]
  },
  {
   "cell_type": "markdown",
   "metadata": {},
   "source": [
    "### Прогноз на 2017 год"
   ]
  },
  {
   "cell_type": "markdown",
   "metadata": {},
   "source": [
    "Итак, для составления прогноза продаж на 2017 год, возьмем данные за последние 3 года. Из этих данных оставим платформы, для которых продажи идут по возрастающей\n"
   ]
  },
  {
   "cell_type": "code",
   "execution_count": 41,
   "metadata": {
    "scrolled": true
   },
   "outputs": [
    {
     "data": {
      "text/plain": [
       "(1735, 12)"
      ]
     },
     "execution_count": 41,
     "metadata": {},
     "output_type": "execute_result"
    }
   ],
   "source": [
    "current_data = data.query('year_of_release >=2014')\n",
    "current_data.shape"
   ]
  },
  {
   "cell_type": "markdown",
   "metadata": {},
   "source": [
    "<div class=\"alert alert-block alert-warning\">\n",
    " \n",
    "### Комментарий ревьюера\n",
    "    \n",
    "#### Совет\n",
    "\n",
    "Все же прогноз в крупных компаниях правильно считать за последние 2-3 года. А у тебя сфера видеоигр где все быстро меняется и легко отловать отжившие тренды."
   ]
  },
  {
   "cell_type": "markdown",
   "metadata": {},
   "source": [
    "<div class=\"alert alert-block alert-info\">\n",
    "Актуальный период в 3 года рассматривала с самого начала. Но не понравился график распределения по годам. Для той же PS4 и XOne на моем графике видно, что они самые \"свежие\" платформы. А в периоде 3 года этого не видно и сливаются с 3DS. А потом не учла, что с этими данными еще дальше работать ))) И ранние годы смажут картину. \n",
    "    \n",
    "</div>"
   ]
  },
  {
   "cell_type": "markdown",
   "metadata": {},
   "source": [
    "Определим какие платформы лидируют по продажам. И выберем несколько потенциально прибыльных."
   ]
  },
  {
   "cell_type": "code",
   "execution_count": 42,
   "metadata": {},
   "outputs": [
    {
     "data": {
      "text/html": [
       "<div>\n",
       "<style scoped>\n",
       "    .dataframe tbody tr th:only-of-type {\n",
       "        vertical-align: middle;\n",
       "    }\n",
       "\n",
       "    .dataframe tbody tr th {\n",
       "        vertical-align: top;\n",
       "    }\n",
       "\n",
       "    .dataframe thead th {\n",
       "        text-align: right;\n",
       "    }\n",
       "</style>\n",
       "<table border=\"1\" class=\"dataframe\">\n",
       "  <thead>\n",
       "    <tr style=\"text-align: right;\">\n",
       "      <th></th>\n",
       "      <th>platform</th>\n",
       "      <th>total_sales</th>\n",
       "    </tr>\n",
       "  </thead>\n",
       "  <tbody>\n",
       "    <tr>\n",
       "      <th>0</th>\n",
       "      <td>PS4</td>\n",
       "      <td>288.15</td>\n",
       "    </tr>\n",
       "    <tr>\n",
       "      <th>1</th>\n",
       "      <td>XOne</td>\n",
       "      <td>140.36</td>\n",
       "    </tr>\n",
       "    <tr>\n",
       "      <th>2</th>\n",
       "      <td>3DS</td>\n",
       "      <td>86.96</td>\n",
       "    </tr>\n",
       "    <tr>\n",
       "      <th>3</th>\n",
       "      <td>PS3</td>\n",
       "      <td>68.18</td>\n",
       "    </tr>\n",
       "    <tr>\n",
       "      <th>4</th>\n",
       "      <td>X360</td>\n",
       "      <td>48.30</td>\n",
       "    </tr>\n",
       "    <tr>\n",
       "      <th>5</th>\n",
       "      <td>WiiU</td>\n",
       "      <td>42.98</td>\n",
       "    </tr>\n",
       "    <tr>\n",
       "      <th>6</th>\n",
       "      <td>PC</td>\n",
       "      <td>27.05</td>\n",
       "    </tr>\n",
       "    <tr>\n",
       "      <th>7</th>\n",
       "      <td>PSV</td>\n",
       "      <td>22.40</td>\n",
       "    </tr>\n",
       "    <tr>\n",
       "      <th>8</th>\n",
       "      <td>Wii</td>\n",
       "      <td>6.17</td>\n",
       "    </tr>\n",
       "    <tr>\n",
       "      <th>9</th>\n",
       "      <td>GBA</td>\n",
       "      <td>2.75</td>\n",
       "    </tr>\n",
       "    <tr>\n",
       "      <th>10</th>\n",
       "      <td>DS</td>\n",
       "      <td>1.70</td>\n",
       "    </tr>\n",
       "    <tr>\n",
       "      <th>11</th>\n",
       "      <td>XB</td>\n",
       "      <td>1.14</td>\n",
       "    </tr>\n",
       "    <tr>\n",
       "      <th>12</th>\n",
       "      <td>PS2</td>\n",
       "      <td>1.07</td>\n",
       "    </tr>\n",
       "    <tr>\n",
       "      <th>13</th>\n",
       "      <td>PSP</td>\n",
       "      <td>0.86</td>\n",
       "    </tr>\n",
       "    <tr>\n",
       "      <th>14</th>\n",
       "      <td>GC</td>\n",
       "      <td>0.32</td>\n",
       "    </tr>\n",
       "    <tr>\n",
       "      <th>15</th>\n",
       "      <td>PS</td>\n",
       "      <td>0.30</td>\n",
       "    </tr>\n",
       "  </tbody>\n",
       "</table>\n",
       "</div>"
      ],
      "text/plain": [
       "   platform  total_sales\n",
       "0       PS4       288.15\n",
       "1      XOne       140.36\n",
       "2       3DS        86.96\n",
       "3       PS3        68.18\n",
       "4      X360        48.30\n",
       "5      WiiU        42.98\n",
       "6        PC        27.05\n",
       "7       PSV        22.40\n",
       "8       Wii         6.17\n",
       "9       GBA         2.75\n",
       "10       DS         1.70\n",
       "11       XB         1.14\n",
       "12      PS2         1.07\n",
       "13      PSP         0.86\n",
       "14       GC         0.32\n",
       "15       PS         0.30"
      ]
     },
     "execution_count": 42,
     "metadata": {},
     "output_type": "execute_result"
    }
   ],
   "source": [
    "#Выберем платформы с наибольшими суммарными продажами\n",
    "current_platform = pd.pivot_table(current_data, \n",
    "               index = 'platform', \n",
    "               values = 'total_sales', \n",
    "               aggfunc = 'sum').sort_values(by='total_sales', ascending=False).reset_index()\n",
    "current_platform\n"
   ]
  },
  {
   "cell_type": "markdown",
   "metadata": {},
   "source": [
    "Из всего списка оставим топ 6, т.к. разрыв по суммарным продажам между 5 и 6 платформой уже существенный. "
   ]
  },
  {
   "cell_type": "code",
   "execution_count": 43,
   "metadata": {
    "scrolled": true
   },
   "outputs": [
    {
     "data": {
      "text/plain": [
       "['PS4', 'XOne', '3DS', 'PS3', 'X360', 'WiiU']"
      ]
     },
     "execution_count": 43,
     "metadata": {},
     "output_type": "execute_result"
    }
   ],
   "source": [
    "current_platform = current_platform.loc[:5,['platform']]['platform'].to_list()\n",
    "\n",
    "current_platform"
   ]
  },
  {
   "cell_type": "code",
   "execution_count": 44,
   "metadata": {},
   "outputs": [
    {
     "data": {
      "text/plain": [
       "array(['PS4', '3DS', 'XOne', 'WiiU', 'PS3', 'X360'], dtype=object)"
      ]
     },
     "execution_count": 44,
     "metadata": {},
     "output_type": "execute_result"
    }
   ],
   "source": [
    "# Оставим в исследуемом датафрейме только интересующие платформы\n",
    "current_data = current_data.query('platform == @current_platform')\n",
    "current_data['platform'].unique()"
   ]
  },
  {
   "cell_type": "code",
   "execution_count": 45,
   "metadata": {},
   "outputs": [],
   "source": [
    "# Cгруппируем данные для построения графиков\n",
    "sales_by_year = pd.pivot_table(current_data, \n",
    "                          index = 'year_of_release', \n",
    "                          columns = 'platform',\n",
    "                          values = 'total_sales', aggfunc = 'sum').reset_index()"
   ]
  },
  {
   "cell_type": "code",
   "execution_count": 46,
   "metadata": {},
   "outputs": [
    {
     "data": {
      "image/png": "[encoded data removed]",
      "text/plain": [
       "<Figure size 864x576 with 1 Axes>"
      ]
     },
     "metadata": {},
     "output_type": "display_data"
    }
   ],
   "source": [
    "# Построим распределение по годам для данных платформ по годам\n",
    "\n",
    "fig, ax = plt.subplots(figsize = (12,8))\n",
    "\n",
    "for i in current_platform:\n",
    "    ax.plot(sales_by_year['year_of_release'], sales_by_year[i],'o-', label=i)\n",
    "    \n",
    "ax.grid(True)\n",
    "ax.set_title('Распределение по годам', fontsize = 20)\n",
    "ax.set_xlabel('Год')\n",
    "ax.set_ylabel('Продажи')\n",
    "\n",
    "ax.legend()\n",
    "plt.show()"
   ]
  },
  {
   "cell_type": "markdown",
   "metadata": {},
   "source": [
    "<div class=\"alert alert-block alert-success\">\n",
    " \n",
    "### Комментарий ревьюера\n",
    "    \n",
    "#### Успех\n",
    "    \n",
    "Все платформы актуальнго периода имеют падающую тенденцию на графике"
   ]
  },
  {
   "cell_type": "markdown",
   "metadata": {},
   "source": [
    "За последние 3 года наблюдается спад продаж. Выход новых платформ не превзашел показатели продаж их предшественниц. \n",
    "\n",
    "На фоне остальных потенциально выгодными можно считать платформы \n",
    "- PS4, \n",
    "- XOne. \n",
    "- 3DS выделяется на фоне остальных, но есть предположение, что ее пик уже позади. "
   ]
  },
  {
   "cell_type": "markdown",
   "metadata": {},
   "source": [
    "### Глобальные продажи игр в разбивке по платформам"
   ]
  },
  {
   "cell_type": "code",
   "execution_count": 47,
   "metadata": {},
   "outputs": [
    {
     "data": {
      "image/png": "[encoded data removed]",
      "text/plain": [
       "<Figure size 864x576 with 1 Axes>"
      ]
     },
     "metadata": {},
     "output_type": "display_data"
    }
   ],
   "source": [
    "#график по глобальным продажам игр в разбивке по платформам\n",
    "# по х - платформа \n",
    "fig, ax = plt.subplots(figsize = (12,8))  \n",
    "sns.boxplot(x=current_data['platform'], y=current_data['total_sales'], palette='pastel')\n",
    "ax.grid(True)\n",
    "ax.set_title('Глобальные продажи игр в разбивке по платформам', fontsize = 20)\n",
    "ax.set_xlabel('Платформа')\n",
    "ax.set_ylabel('Продажи')\n",
    "ax.set_ylim(0,2)\n",
    "\n",
    "plt.show()"
   ]
  },
  {
   "cell_type": "markdown",
   "metadata": {},
   "source": [
    "<div class=\"alert alert-block alert-danger\">\n",
    " \n",
    "### Комментарий ревьюера\n",
    "    \n",
    "#### Ошибка\n",
    "    \n",
    "А тут вот все идеально, кроме одного. Правильно тут оставить штук 5 наиболее перспективных платформ актуального периода и смотреть только на них"
   ]
  },
  {
   "cell_type": "markdown",
   "metadata": {},
   "source": [
    "<div class=\"alert alert-block alert-info\">\n",
    "    Исправила.\n",
    "</div>"
   ]
  },
  {
   "cell_type": "markdown",
   "metadata": {},
   "source": [
    "<div class=\"alert alert-block alert-success\">\n",
    " \n",
    "# Комментарий ревьюера ver.2 \n",
    "    \n",
    "#### Успех\n",
    "    \n",
    "Тут здорово. Идем далее"
   ]
  },
  {
   "cell_type": "markdown",
   "metadata": {},
   "source": [
    "График хорошо дополняет ранее полученные данные\n",
    "\n",
    "Так суммарно с 2011 года платформы лидеры продаж:\n",
    "- PS3\n",
    "- X360\n",
    "- PS4\n",
    "- XOne\n",
    "- WiiU\n",
    "\n",
    "Данный график не отражает какие игры уже на исходе своей популярности, а какие только набирают оборот популярности.\n",
    "\n",
    "Но с учетом ранее полученной информации, мы знаем, что PS3 и X360 на спаде. В то время как у 3DS есть потенциал к росту.\n",
    "\n"
   ]
  },
  {
   "cell_type": "markdown",
   "metadata": {},
   "source": [
    "### Влияние отзывов пользователей и критиов на продажи."
   ]
  },
  {
   "cell_type": "markdown",
   "metadata": {},
   "source": [
    "Для анализа влияния оценок критиков и пользователей возьмем одну популярную платформу PS4.\n",
    "У данной платформы большой объем продаж и достаточно оценок для анализа. "
   ]
  },
  {
   "cell_type": "code",
   "execution_count": 48,
   "metadata": {},
   "outputs": [
    {
     "data": {
      "image/png": "[encoded data removed]",
      "text/plain": [
       "<Figure size 720x432 with 1 Axes>"
      ]
     },
     "metadata": {},
     "output_type": "display_data"
    }
   ],
   "source": [
    "# Построим диаграмму рассеняния зависимости продаж от оценки критиков\n",
    "\n",
    "fig, ax = plt.subplots(figsize = (10,6))\n",
    "\n",
    "ax.scatter(x = current_data.query('platform == \"PS4\"')['critic_score'], y = current_data.query('platform == \"PS4\"')['total_sales'])\n",
    "ax.grid(True)\n",
    "ax.set_title('Влияние оценок критиков на продажи', fontsize = 20)\n",
    "ax.set_xlabel('Оценка пользователей')\n",
    "ax.set_ylabel('Продажи')\n",
    "ax.set_ylim(0, 2)\n",
    "\n",
    "\n",
    "plt.show()"
   ]
  },
  {
   "cell_type": "markdown",
   "metadata": {},
   "source": [
    "<div class=\"alert alert-block alert-success\">\n",
    " \n",
    "### Комментарий ревьюера\n",
    "    \n",
    "#### Успех\n",
    "\n",
    "Ты подбираешь самый оптимальный способ показа зависимости одного параметра, от другого на графике."
   ]
  },
  {
   "cell_type": "code",
   "execution_count": 49,
   "metadata": {},
   "outputs": [
    {
     "data": {
      "text/html": [
       "<div>\n",
       "<style scoped>\n",
       "    .dataframe tbody tr th:only-of-type {\n",
       "        vertical-align: middle;\n",
       "    }\n",
       "\n",
       "    .dataframe tbody tr th {\n",
       "        vertical-align: top;\n",
       "    }\n",
       "\n",
       "    .dataframe thead th {\n",
       "        text-align: right;\n",
       "    }\n",
       "</style>\n",
       "<table border=\"1\" class=\"dataframe\">\n",
       "  <thead>\n",
       "    <tr style=\"text-align: right;\">\n",
       "      <th></th>\n",
       "      <th>critic_score</th>\n",
       "      <th>total_sales</th>\n",
       "    </tr>\n",
       "  </thead>\n",
       "  <tbody>\n",
       "    <tr>\n",
       "      <th>0</th>\n",
       "      <td>19</td>\n",
       "      <td>0.120</td>\n",
       "    </tr>\n",
       "    <tr>\n",
       "      <th>1</th>\n",
       "      <td>25</td>\n",
       "      <td>0.060</td>\n",
       "    </tr>\n",
       "    <tr>\n",
       "      <th>2</th>\n",
       "      <td>31</td>\n",
       "      <td>0.020</td>\n",
       "    </tr>\n",
       "    <tr>\n",
       "      <th>3</th>\n",
       "      <td>32</td>\n",
       "      <td>0.200</td>\n",
       "    </tr>\n",
       "    <tr>\n",
       "      <th>4</th>\n",
       "      <td>42</td>\n",
       "      <td>0.035</td>\n",
       "    </tr>\n",
       "  </tbody>\n",
       "</table>\n",
       "</div>"
      ],
      "text/plain": [
       "   critic_score  total_sales\n",
       "0            19        0.120\n",
       "1            25        0.060\n",
       "2            31        0.020\n",
       "3            32        0.200\n",
       "4            42        0.035"
      ]
     },
     "execution_count": 49,
     "metadata": {},
     "output_type": "execute_result"
    }
   ],
   "source": [
    "#Посчитаем среднее значение продаж в зависимости от оценок критиков\n",
    "data_ps4_critic_score = (current_data.query('platform == \"PS4\"')\n",
    "            .groupby('critic_score')['total_sales']\n",
    "            .mean()\n",
    "            .to_frame()\n",
    "            .sort_values(by='critic_score')\n",
    "            .reset_index())\n",
    "data_ps4_critic_score.head(5)"
   ]
  },
  {
   "cell_type": "code",
   "execution_count": 50,
   "metadata": {},
   "outputs": [
    {
     "data": {
      "image/png": "[encoded data removed]",
      "text/plain": [
       "<Figure size 720x432 with 1 Axes>"
      ]
     },
     "metadata": {},
     "output_type": "display_data"
    }
   ],
   "source": [
    "# построим график зависимости продаж от оценки критиков\n",
    "\n",
    "fig, ax = plt.subplots(figsize = (10,6))\n",
    "\n",
    "#ax.plot(data_ps4_critic_score['critic_score'], data_ps4_critic_score['total_sales'],'o-')\n",
    "sns.barplot(x=data_ps4_critic_score['critic_score'], y=data_ps4_critic_score['total_sales'], )\n",
    "ax.grid(True)\n",
    "ax.set_title('Влияние оценок критиков на продажи', fontsize = 20)\n",
    "ax.set_xlabel('Оценка критиков')\n",
    "ax.set_ylabel('Продажи')\n",
    "ax.set_ylim(0, 15)\n",
    "for label in ax.xaxis.get_ticklabels()[::2]:\n",
    "    label.set_visible(False)\n",
    "\n",
    "plt.show()\n",
    "\n"
   ]
  },
  {
   "cell_type": "code",
   "execution_count": 51,
   "metadata": {},
   "outputs": [
    {
     "data": {
      "text/html": [
       "<div>\n",
       "<style scoped>\n",
       "    .dataframe tbody tr th:only-of-type {\n",
       "        vertical-align: middle;\n",
       "    }\n",
       "\n",
       "    .dataframe tbody tr th {\n",
       "        vertical-align: top;\n",
       "    }\n",
       "\n",
       "    .dataframe thead th {\n",
       "        text-align: right;\n",
       "    }\n",
       "</style>\n",
       "<table border=\"1\" class=\"dataframe\">\n",
       "  <thead>\n",
       "    <tr style=\"text-align: right;\">\n",
       "      <th></th>\n",
       "      <th>critic_score</th>\n",
       "      <th>total_sales</th>\n",
       "    </tr>\n",
       "  </thead>\n",
       "  <tbody>\n",
       "    <tr>\n",
       "      <th>critic_score</th>\n",
       "      <td>1.000000</td>\n",
       "      <td>0.554919</td>\n",
       "    </tr>\n",
       "    <tr>\n",
       "      <th>total_sales</th>\n",
       "      <td>0.554919</td>\n",
       "      <td>1.000000</td>\n",
       "    </tr>\n",
       "  </tbody>\n",
       "</table>\n",
       "</div>"
      ],
      "text/plain": [
       "              critic_score  total_sales\n",
       "critic_score      1.000000     0.554919\n",
       "total_sales       0.554919     1.000000"
      ]
     },
     "execution_count": 51,
     "metadata": {},
     "output_type": "execute_result"
    }
   ],
   "source": [
    "data_ps4_critic_score.corr()"
   ]
  },
  {
   "cell_type": "markdown",
   "metadata": {},
   "source": [
    "Данные показывают экспонинциальную зависимость продаж от оценок критиков. \n",
    "\n"
   ]
  },
  {
   "cell_type": "markdown",
   "metadata": {},
   "source": [
    "Аналогично посмотрим на влияние оценок пользователей на продажи"
   ]
  },
  {
   "cell_type": "code",
   "execution_count": 52,
   "metadata": {},
   "outputs": [
    {
     "data": {
      "image/png": "[encoded data removed]",
      "text/plain": [
       "<Figure size 720x432 with 1 Axes>"
      ]
     },
     "metadata": {},
     "output_type": "display_data"
    }
   ],
   "source": [
    "# Построим диаграмму рассеняния зависимости продаж от оценки пользователей\n",
    "\n",
    "fig, ax = plt.subplots(figsize = (10,6))\n",
    "\n",
    "ax.scatter(x = current_data.query('platform == \"PS4\"')['user_score'], y = current_data.query('platform == \"PS4\"')['total_sales'], color = 'g')\n",
    "ax.grid(True)\n",
    "ax.set_title('Влияние оценок пользователей на продажи', fontsize = 20)\n",
    "ax.set_xlabel('Оценка пользователей')\n",
    "ax.set_ylabel('Продажи')\n",
    "ax.set_ylim(0, 2)\n",
    "\n",
    "\n",
    "plt.show()"
   ]
  },
  {
   "cell_type": "code",
   "execution_count": 53,
   "metadata": {},
   "outputs": [
    {
     "data": {
      "text/html": [
       "<div>\n",
       "<style scoped>\n",
       "    .dataframe tbody tr th:only-of-type {\n",
       "        vertical-align: middle;\n",
       "    }\n",
       "\n",
       "    .dataframe tbody tr th {\n",
       "        vertical-align: top;\n",
       "    }\n",
       "\n",
       "    .dataframe thead th {\n",
       "        text-align: right;\n",
       "    }\n",
       "</style>\n",
       "<table border=\"1\" class=\"dataframe\">\n",
       "  <thead>\n",
       "    <tr style=\"text-align: right;\">\n",
       "      <th></th>\n",
       "      <th>user_score</th>\n",
       "      <th>total_sales</th>\n",
       "    </tr>\n",
       "  </thead>\n",
       "  <tbody>\n",
       "    <tr>\n",
       "      <th>0</th>\n",
       "      <td>0.0</td>\n",
       "      <td>0.023333</td>\n",
       "    </tr>\n",
       "    <tr>\n",
       "      <th>1</th>\n",
       "      <td>1.5</td>\n",
       "      <td>0.200000</td>\n",
       "    </tr>\n",
       "    <tr>\n",
       "      <th>2</th>\n",
       "      <td>1.9</td>\n",
       "      <td>0.060000</td>\n",
       "    </tr>\n",
       "    <tr>\n",
       "      <th>3</th>\n",
       "      <td>2.0</td>\n",
       "      <td>0.010000</td>\n",
       "    </tr>\n",
       "    <tr>\n",
       "      <th>4</th>\n",
       "      <td>2.3</td>\n",
       "      <td>0.010000</td>\n",
       "    </tr>\n",
       "  </tbody>\n",
       "</table>\n",
       "</div>"
      ],
      "text/plain": [
       "   user_score  total_sales\n",
       "0         0.0     0.023333\n",
       "1         1.5     0.200000\n",
       "2         1.9     0.060000\n",
       "3         2.0     0.010000\n",
       "4         2.3     0.010000"
      ]
     },
     "execution_count": 53,
     "metadata": {},
     "output_type": "execute_result"
    }
   ],
   "source": [
    "data_ps4_user_score = (current_data.query('platform == \"PS4\"')\n",
    "            .groupby('user_score')['total_sales']\n",
    "            .mean()\n",
    "            .to_frame()\n",
    "            .sort_values(by='user_score')\n",
    "            .reset_index())\n",
    "data_ps4_user_score.head(5)"
   ]
  },
  {
   "cell_type": "code",
   "execution_count": 54,
   "metadata": {},
   "outputs": [
    {
     "data": {
      "image/png": "[encoded data removed]",
      "text/plain": [
       "<Figure size 720x432 with 1 Axes>"
      ]
     },
     "metadata": {},
     "output_type": "display_data"
    }
   ],
   "source": [
    "# Построим график зависимости продаж от оценки пользователей\n",
    "\n",
    "fig, ax = plt.subplots(figsize = (10,6))\n",
    "\n",
    "ax.plot(data_ps4_user_score['user_score'], data_ps4_user_score['total_sales'],'o-', color='g')\n",
    "#sns.barplot(x=data_ps4_user_score['user_score'], y=data_ps4_user_score['total_sales'], )\n",
    "ax.grid(True)\n",
    "ax.set_title('Влияние оценок пользователей на продажи', fontsize = 20)\n",
    "ax.set_xlabel('Оценка пользователей')\n",
    "ax.set_ylabel('Продажи')\n",
    "ax.set_ylim(0, 5)\n",
    "\n",
    "\n",
    "plt.show()"
   ]
  },
  {
   "cell_type": "code",
   "execution_count": 55,
   "metadata": {},
   "outputs": [
    {
     "data": {
      "text/html": [
       "<div>\n",
       "<style scoped>\n",
       "    .dataframe tbody tr th:only-of-type {\n",
       "        vertical-align: middle;\n",
       "    }\n",
       "\n",
       "    .dataframe tbody tr th {\n",
       "        vertical-align: top;\n",
       "    }\n",
       "\n",
       "    .dataframe thead th {\n",
       "        text-align: right;\n",
       "    }\n",
       "</style>\n",
       "<table border=\"1\" class=\"dataframe\">\n",
       "  <thead>\n",
       "    <tr style=\"text-align: right;\">\n",
       "      <th></th>\n",
       "      <th>user_score</th>\n",
       "      <th>total_sales</th>\n",
       "    </tr>\n",
       "  </thead>\n",
       "  <tbody>\n",
       "    <tr>\n",
       "      <th>user_score</th>\n",
       "      <td>1.000000</td>\n",
       "      <td>0.197057</td>\n",
       "    </tr>\n",
       "    <tr>\n",
       "      <th>total_sales</th>\n",
       "      <td>0.197057</td>\n",
       "      <td>1.000000</td>\n",
       "    </tr>\n",
       "  </tbody>\n",
       "</table>\n",
       "</div>"
      ],
      "text/plain": [
       "             user_score  total_sales\n",
       "user_score     1.000000     0.197057\n",
       "total_sales    0.197057     1.000000"
      ]
     },
     "execution_count": 55,
     "metadata": {},
     "output_type": "execute_result"
    }
   ],
   "source": [
    "data_ps4_user_score.corr()"
   ]
  },
  {
   "cell_type": "markdown",
   "metadata": {},
   "source": [
    "Данные показывают крайне слабую прямую зависимость между оценками пользователей и продажами игр.\n",
    "\n",
    "Таким образом, можно сделать вывод, что игры с высокими рейтингами от критиков имееют лучшие продажи. \n",
    "\n",
    "При этом влияние рейтинга критиков ощутимо на максимальных оценках (выше 90). А рейтинг пользователей слабо влияет на продажи."
   ]
  },
  {
   "cell_type": "markdown",
   "metadata": {},
   "source": [
    "<div class=\"alert alert-block alert-success\">\n",
    " \n",
    "### Комментарий ревьюера\n",
    "    \n",
    "#### Успех\n",
    "    \n",
    "Выводы на основе данных нескольких платформ выглядят убедительно"
   ]
  },
  {
   "cell_type": "markdown",
   "metadata": {},
   "source": [
    "### Распределение игр по жанрам\n",
    "Посмотрим на общее распределение игр по жанрам. "
   ]
  },
  {
   "cell_type": "code",
   "execution_count": 56,
   "metadata": {},
   "outputs": [
    {
     "data": {
      "image/png": "[encoded data removed]",
      "text/plain": [
       "<Figure size 864x432 with 1 Axes>"
      ]
     },
     "metadata": {},
     "output_type": "display_data"
    }
   ],
   "source": [
    "# Построим диаграмму рассеняния зависимости продаж от жанра\n",
    "\n",
    "fig, ax = plt.subplots(figsize = (12,6))\n",
    "sns.boxplot(x=current_data['genre'], y=current_data['total_sales'], palette='pastel')\n",
    "#ax.scatter(x = data['genre'], y = data['total_sales'], color = 'm')\n",
    "ax.grid(True)\n",
    "ax.set_title('Влияние оценок пользователей на продажи', fontsize = 20)\n",
    "ax.set_xlabel('Оценка пользователей')\n",
    "ax.set_ylabel('Продажи')\n",
    "ax.set_ylim(0, 3.5)\n",
    "\n",
    "\n",
    "plt.show()"
   ]
  },
  {
   "cell_type": "markdown",
   "metadata": {},
   "source": [
    "<div class=\"alert alert-block alert-success\">\n",
    " \n",
    "### Комментарий ревьюера\n",
    "    \n",
    "#### Успех\n",
    "    \n",
    "Правильно делаешь, что рассматриваешь выбивающиеся значения. Это наиболее справедливый показатель для определения самого успешного жанра."
   ]
  },
  {
   "cell_type": "code",
   "execution_count": 57,
   "metadata": {},
   "outputs": [
    {
     "data": {
      "text/html": [
       "<div>\n",
       "<style scoped>\n",
       "    .dataframe tbody tr th:only-of-type {\n",
       "        vertical-align: middle;\n",
       "    }\n",
       "\n",
       "    .dataframe tbody tr th {\n",
       "        vertical-align: top;\n",
       "    }\n",
       "\n",
       "    .dataframe thead th {\n",
       "        text-align: right;\n",
       "    }\n",
       "</style>\n",
       "<table border=\"1\" class=\"dataframe\">\n",
       "  <thead>\n",
       "    <tr style=\"text-align: right;\">\n",
       "      <th></th>\n",
       "      <th>genre</th>\n",
       "      <th>total_sales</th>\n",
       "    </tr>\n",
       "  </thead>\n",
       "  <tbody>\n",
       "    <tr>\n",
       "      <th>0</th>\n",
       "      <td>Shooter</td>\n",
       "      <td>1.551981</td>\n",
       "    </tr>\n",
       "    <tr>\n",
       "      <th>1</th>\n",
       "      <td>Sports</td>\n",
       "      <td>0.773188</td>\n",
       "    </tr>\n",
       "    <tr>\n",
       "      <th>2</th>\n",
       "      <td>Role-Playing</td>\n",
       "      <td>0.628264</td>\n",
       "    </tr>\n",
       "    <tr>\n",
       "      <th>3</th>\n",
       "      <td>Platform</td>\n",
       "      <td>0.540606</td>\n",
       "    </tr>\n",
       "    <tr>\n",
       "      <th>4</th>\n",
       "      <td>Fighting</td>\n",
       "      <td>0.537843</td>\n",
       "    </tr>\n",
       "    <tr>\n",
       "      <th>5</th>\n",
       "      <td>Racing</td>\n",
       "      <td>0.497593</td>\n",
       "    </tr>\n",
       "    <tr>\n",
       "      <th>6</th>\n",
       "      <td>Action</td>\n",
       "      <td>0.405164</td>\n",
       "    </tr>\n",
       "    <tr>\n",
       "      <th>7</th>\n",
       "      <td>Misc</td>\n",
       "      <td>0.348202</td>\n",
       "    </tr>\n",
       "    <tr>\n",
       "      <th>8</th>\n",
       "      <td>Simulation</td>\n",
       "      <td>0.278333</td>\n",
       "    </tr>\n",
       "    <tr>\n",
       "      <th>9</th>\n",
       "      <td>Puzzle</td>\n",
       "      <td>0.179167</td>\n",
       "    </tr>\n",
       "    <tr>\n",
       "      <th>10</th>\n",
       "      <td>Adventure</td>\n",
       "      <td>0.149388</td>\n",
       "    </tr>\n",
       "    <tr>\n",
       "      <th>11</th>\n",
       "      <td>Strategy</td>\n",
       "      <td>0.093125</td>\n",
       "    </tr>\n",
       "  </tbody>\n",
       "</table>\n",
       "</div>"
      ],
      "text/plain": [
       "           genre  total_sales\n",
       "0        Shooter     1.551981\n",
       "1         Sports     0.773188\n",
       "2   Role-Playing     0.628264\n",
       "3       Platform     0.540606\n",
       "4       Fighting     0.537843\n",
       "5         Racing     0.497593\n",
       "6         Action     0.405164\n",
       "7           Misc     0.348202\n",
       "8     Simulation     0.278333\n",
       "9         Puzzle     0.179167\n",
       "10     Adventure     0.149388\n",
       "11      Strategy     0.093125"
      ]
     },
     "execution_count": 57,
     "metadata": {},
     "output_type": "execute_result"
    }
   ],
   "source": [
    "data_genre = (current_data.groupby('genre')['total_sales']\n",
    "              .mean()\n",
    "              .to_frame()\n",
    "              .sort_values(by='total_sales', ascending=False)\n",
    "              .reset_index())\n",
    "data_genre"
   ]
  },
  {
   "cell_type": "markdown",
   "metadata": {},
   "source": [
    "Согласно распределению самые продаваемые жанры:\n",
    "1. Shooter\n",
    "2. Platform\n",
    "3. Sports\n",
    "\n",
    "Самые плохо продаваемые жанры (антирейтинг):\n",
    "1. Adventure\n",
    "2. Puzzle\n",
    "3. Strategy"
   ]
  },
  {
   "cell_type": "markdown",
   "metadata": {},
   "source": [
    "<div class=\"alert alert-block alert-success\">\n",
    " \n",
    "### Комментарий ревьюера\n",
    "    \n",
    "#### Успех\n",
    "    \n",
    "И здесь я согласен с твоими заключениями. "
   ]
  },
  {
   "cell_type": "markdown",
   "metadata": {},
   "source": [
    "## Портрет пользователя в зависимости от региона\n",
    "Определите для пользователя каждого региона (NA, EU, JP):\n",
    "Самые популярные платформы (топ-5). Опишите различия в долях продаж.\n",
    "Самые популярные жанры (топ-5). Поясните разницу.\n",
    "Влияет ли рейтинг ESRB на продажи в отдельном регионе?"
   ]
  },
  {
   "cell_type": "code",
   "execution_count": 58,
   "metadata": {},
   "outputs": [
    {
     "data": {
      "text/html": [
       "<div>\n",
       "<style scoped>\n",
       "    .dataframe tbody tr th:only-of-type {\n",
       "        vertical-align: middle;\n",
       "    }\n",
       "\n",
       "    .dataframe tbody tr th {\n",
       "        vertical-align: top;\n",
       "    }\n",
       "\n",
       "    .dataframe thead th {\n",
       "        text-align: right;\n",
       "    }\n",
       "</style>\n",
       "<table border=\"1\" class=\"dataframe\">\n",
       "  <thead>\n",
       "    <tr style=\"text-align: right;\">\n",
       "      <th></th>\n",
       "      <th>name</th>\n",
       "      <th>platform</th>\n",
       "      <th>year_of_release</th>\n",
       "      <th>genre</th>\n",
       "      <th>na_sales</th>\n",
       "      <th>eu_sales</th>\n",
       "      <th>jp_sales</th>\n",
       "      <th>other_sales</th>\n",
       "      <th>critic_score</th>\n",
       "      <th>user_score</th>\n",
       "      <th>rating</th>\n",
       "      <th>total_sales</th>\n",
       "    </tr>\n",
       "  </thead>\n",
       "  <tbody>\n",
       "    <tr>\n",
       "      <th>31</th>\n",
       "      <td>Call of Duty: Black Ops 3</td>\n",
       "      <td>PS4</td>\n",
       "      <td>2015</td>\n",
       "      <td>Shooter</td>\n",
       "      <td>6.03</td>\n",
       "      <td>5.86</td>\n",
       "      <td>0.36</td>\n",
       "      <td>2.38</td>\n",
       "      <td>72</td>\n",
       "      <td>5.1</td>\n",
       "      <td>NO RATING</td>\n",
       "      <td>14.63</td>\n",
       "    </tr>\n",
       "    <tr>\n",
       "      <th>42</th>\n",
       "      <td>Grand Theft Auto V</td>\n",
       "      <td>PS4</td>\n",
       "      <td>2014</td>\n",
       "      <td>Action</td>\n",
       "      <td>3.96</td>\n",
       "      <td>6.31</td>\n",
       "      <td>0.38</td>\n",
       "      <td>1.97</td>\n",
       "      <td>97</td>\n",
       "      <td>8.3</td>\n",
       "      <td>M</td>\n",
       "      <td>12.62</td>\n",
       "    </tr>\n",
       "    <tr>\n",
       "      <th>47</th>\n",
       "      <td>Pokemon Omega Ruby/Pokemon Alpha Sapphire</td>\n",
       "      <td>3DS</td>\n",
       "      <td>2014</td>\n",
       "      <td>Role-Playing</td>\n",
       "      <td>4.35</td>\n",
       "      <td>3.49</td>\n",
       "      <td>3.10</td>\n",
       "      <td>0.74</td>\n",
       "      <td>72</td>\n",
       "      <td>5.1</td>\n",
       "      <td>NO RATING</td>\n",
       "      <td>11.68</td>\n",
       "    </tr>\n",
       "    <tr>\n",
       "      <th>77</th>\n",
       "      <td>FIFA 16</td>\n",
       "      <td>PS4</td>\n",
       "      <td>2015</td>\n",
       "      <td>Sports</td>\n",
       "      <td>1.12</td>\n",
       "      <td>6.12</td>\n",
       "      <td>0.06</td>\n",
       "      <td>1.28</td>\n",
       "      <td>82</td>\n",
       "      <td>4.3</td>\n",
       "      <td>E</td>\n",
       "      <td>8.58</td>\n",
       "    </tr>\n",
       "    <tr>\n",
       "      <th>87</th>\n",
       "      <td>Star Wars Battlefront (2015)</td>\n",
       "      <td>PS4</td>\n",
       "      <td>2015</td>\n",
       "      <td>Shooter</td>\n",
       "      <td>2.99</td>\n",
       "      <td>3.49</td>\n",
       "      <td>0.22</td>\n",
       "      <td>1.28</td>\n",
       "      <td>72</td>\n",
       "      <td>5.1</td>\n",
       "      <td>NO RATING</td>\n",
       "      <td>7.98</td>\n",
       "    </tr>\n",
       "  </tbody>\n",
       "</table>\n",
       "</div>"
      ],
      "text/plain": [
       "                                         name platform  year_of_release  \\\n",
       "31                  Call of Duty: Black Ops 3      PS4             2015   \n",
       "42                         Grand Theft Auto V      PS4             2014   \n",
       "47  Pokemon Omega Ruby/Pokemon Alpha Sapphire      3DS             2014   \n",
       "77                                    FIFA 16      PS4             2015   \n",
       "87               Star Wars Battlefront (2015)      PS4             2015   \n",
       "\n",
       "           genre  na_sales  eu_sales  jp_sales  other_sales  critic_score  \\\n",
       "31       Shooter      6.03      5.86      0.36         2.38            72   \n",
       "42        Action      3.96      6.31      0.38         1.97            97   \n",
       "47  Role-Playing      4.35      3.49      3.10         0.74            72   \n",
       "77        Sports      1.12      6.12      0.06         1.28            82   \n",
       "87       Shooter      2.99      3.49      0.22         1.28            72   \n",
       "\n",
       "    user_score     rating  total_sales  \n",
       "31         5.1  NO RATING        14.63  \n",
       "42         8.3          M        12.62  \n",
       "47         5.1  NO RATING        11.68  \n",
       "77         4.3          E         8.58  \n",
       "87         5.1  NO RATING         7.98  "
      ]
     },
     "execution_count": 58,
     "metadata": {},
     "output_type": "execute_result"
    }
   ],
   "source": [
    "current_data.head()"
   ]
  },
  {
   "cell_type": "markdown",
   "metadata": {},
   "source": [
    "### Портрет пользователя из Северной Америки"
   ]
  },
  {
   "cell_type": "code",
   "execution_count": 59,
   "metadata": {},
   "outputs": [
    {
     "data": {
      "text/html": [
       "<div>\n",
       "<style scoped>\n",
       "    .dataframe tbody tr th:only-of-type {\n",
       "        vertical-align: middle;\n",
       "    }\n",
       "\n",
       "    .dataframe tbody tr th {\n",
       "        vertical-align: top;\n",
       "    }\n",
       "\n",
       "    .dataframe thead th {\n",
       "        text-align: right;\n",
       "    }\n",
       "</style>\n",
       "<table border=\"1\" class=\"dataframe\">\n",
       "  <thead>\n",
       "    <tr style=\"text-align: right;\">\n",
       "      <th></th>\n",
       "      <th>platform</th>\n",
       "      <th>na_sales</th>\n",
       "      <th>share_of_sales</th>\n",
       "    </tr>\n",
       "  </thead>\n",
       "  <tbody>\n",
       "    <tr>\n",
       "      <th>0</th>\n",
       "      <td>PS4</td>\n",
       "      <td>98.61</td>\n",
       "      <td>36.0</td>\n",
       "    </tr>\n",
       "    <tr>\n",
       "      <th>1</th>\n",
       "      <td>XOne</td>\n",
       "      <td>81.27</td>\n",
       "      <td>30.0</td>\n",
       "    </tr>\n",
       "    <tr>\n",
       "      <th>2</th>\n",
       "      <td>X360</td>\n",
       "      <td>28.37</td>\n",
       "      <td>10.0</td>\n",
       "    </tr>\n",
       "    <tr>\n",
       "      <th>3</th>\n",
       "      <td>3DS</td>\n",
       "      <td>22.90</td>\n",
       "      <td>8.0</td>\n",
       "    </tr>\n",
       "    <tr>\n",
       "      <th>4</th>\n",
       "      <td>PS3</td>\n",
       "      <td>22.05</td>\n",
       "      <td>8.0</td>\n",
       "    </tr>\n",
       "  </tbody>\n",
       "</table>\n",
       "</div>"
      ],
      "text/plain": [
       "  platform  na_sales  share_of_sales\n",
       "0      PS4     98.61            36.0\n",
       "1     XOne     81.27            30.0\n",
       "2     X360     28.37            10.0\n",
       "3      3DS     22.90             8.0\n",
       "4      PS3     22.05             8.0"
      ]
     },
     "execution_count": 59,
     "metadata": {},
     "output_type": "execute_result"
    }
   ],
   "source": [
    "#Top 5 самых популярных платформ\n",
    "\n",
    "top_platform_na = (current_data.groupby('platform')['na_sales']\n",
    " .sum()\n",
    " .to_frame()\n",
    " .sort_values(by='na_sales', ascending=False)\n",
    " .reset_index())\n",
    "top_platform_na['share_of_sales'] = ((top_platform_na['na_sales']/current_data['na_sales'].sum())*100).round(0)\n",
    "top_platform_na.head(5)"
   ]
  },
  {
   "cell_type": "code",
   "execution_count": 60,
   "metadata": {},
   "outputs": [
    {
     "data": {
      "text/html": [
       "<div>\n",
       "<style scoped>\n",
       "    .dataframe tbody tr th:only-of-type {\n",
       "        vertical-align: middle;\n",
       "    }\n",
       "\n",
       "    .dataframe tbody tr th {\n",
       "        vertical-align: top;\n",
       "    }\n",
       "\n",
       "    .dataframe thead th {\n",
       "        text-align: right;\n",
       "    }\n",
       "</style>\n",
       "<table border=\"1\" class=\"dataframe\">\n",
       "  <thead>\n",
       "    <tr style=\"text-align: right;\">\n",
       "      <th></th>\n",
       "      <th>genre</th>\n",
       "      <th>na_sales</th>\n",
       "      <th>share_of_sales</th>\n",
       "    </tr>\n",
       "  </thead>\n",
       "  <tbody>\n",
       "    <tr>\n",
       "      <th>0</th>\n",
       "      <td>Shooter</td>\n",
       "      <td>76.83</td>\n",
       "      <td>28.0</td>\n",
       "    </tr>\n",
       "    <tr>\n",
       "      <th>1</th>\n",
       "      <td>Action</td>\n",
       "      <td>69.83</td>\n",
       "      <td>26.0</td>\n",
       "    </tr>\n",
       "    <tr>\n",
       "      <th>2</th>\n",
       "      <td>Sports</td>\n",
       "      <td>45.71</td>\n",
       "      <td>17.0</td>\n",
       "    </tr>\n",
       "    <tr>\n",
       "      <th>3</th>\n",
       "      <td>Role-Playing</td>\n",
       "      <td>31.14</td>\n",
       "      <td>11.0</td>\n",
       "    </tr>\n",
       "    <tr>\n",
       "      <th>4</th>\n",
       "      <td>Misc</td>\n",
       "      <td>13.22</td>\n",
       "      <td>5.0</td>\n",
       "    </tr>\n",
       "  </tbody>\n",
       "</table>\n",
       "</div>"
      ],
      "text/plain": [
       "          genre  na_sales  share_of_sales\n",
       "0       Shooter     76.83            28.0\n",
       "1        Action     69.83            26.0\n",
       "2        Sports     45.71            17.0\n",
       "3  Role-Playing     31.14            11.0\n",
       "4          Misc     13.22             5.0"
      ]
     },
     "execution_count": 60,
     "metadata": {},
     "output_type": "execute_result"
    }
   ],
   "source": [
    "#Top 5 самых популярных жанров\n",
    "\n",
    "top_genre_na = (current_data.groupby('genre')['na_sales']\n",
    " .sum()\n",
    " .to_frame()\n",
    " .sort_values(by='na_sales', ascending=False)\n",
    " .reset_index())\n",
    "top_genre_na['share_of_sales'] = ((top_genre_na['na_sales']/current_data['na_sales'].sum())*100).round(0)\n",
    "top_genre_na.head(5)"
   ]
  },
  {
   "cell_type": "code",
   "execution_count": 61,
   "metadata": {},
   "outputs": [
    {
     "data": {
      "image/png": "[encoded data removed]",
      "text/plain": [
       "<Figure size 720x432 with 1 Axes>"
      ]
     },
     "metadata": {},
     "output_type": "display_data"
    }
   ],
   "source": [
    "# Построим диаграмму рассеняния зависимости рейтинга ESRB на продажи в Северной Америке\n",
    "\n",
    "fig, ax = plt.subplots(figsize = (10,6))\n",
    "\n",
    "ax.scatter(x = current_data['rating'], y = current_data['na_sales'], color = 'blue')\n",
    "ax.grid(True)\n",
    "ax.set_title('Диаграмма рассеняния рейтинга ESRB и продаж в Северной Америке', fontsize = 15)\n",
    "ax.set_xlabel('рейтинг ESRB')\n",
    "ax.set_ylabel('Продажи')\n",
    "ax.set_ylim(0, 12)\n",
    "\n",
    "\n",
    "plt.show()"
   ]
  },
  {
   "cell_type": "markdown",
   "metadata": {},
   "source": [
    "Можно увидеть небольшую зависимость продаж от рейтинга ESRB:\n",
    "    - чем старше возрастная группа, тем лучше продажи."
   ]
  },
  {
   "cell_type": "markdown",
   "metadata": {},
   "source": [
    "<div class=\"alert alert-block alert-success\">\n",
    " \n",
    "### Комментарий ревьюера\n",
    "    \n",
    "#### Успех\n",
    "    \n",
    "Первичное представление о одном из регионов мы получили. Супер. Идем дальше"
   ]
  },
  {
   "cell_type": "markdown",
   "metadata": {},
   "source": [
    "### Портрет пользователя из Европы"
   ]
  },
  {
   "cell_type": "code",
   "execution_count": 62,
   "metadata": {},
   "outputs": [
    {
     "data": {
      "text/html": [
       "<div>\n",
       "<style scoped>\n",
       "    .dataframe tbody tr th:only-of-type {\n",
       "        vertical-align: middle;\n",
       "    }\n",
       "\n",
       "    .dataframe tbody tr th {\n",
       "        vertical-align: top;\n",
       "    }\n",
       "\n",
       "    .dataframe thead th {\n",
       "        text-align: right;\n",
       "    }\n",
       "</style>\n",
       "<table border=\"1\" class=\"dataframe\">\n",
       "  <thead>\n",
       "    <tr style=\"text-align: right;\">\n",
       "      <th></th>\n",
       "      <th>platform</th>\n",
       "      <th>eu_sales</th>\n",
       "      <th>share_of_sales</th>\n",
       "    </tr>\n",
       "  </thead>\n",
       "  <tbody>\n",
       "    <tr>\n",
       "      <th>0</th>\n",
       "      <td>PS4</td>\n",
       "      <td>130.04</td>\n",
       "      <td>53.0</td>\n",
       "    </tr>\n",
       "    <tr>\n",
       "      <th>1</th>\n",
       "      <td>XOne</td>\n",
       "      <td>46.25</td>\n",
       "      <td>19.0</td>\n",
       "    </tr>\n",
       "    <tr>\n",
       "      <th>2</th>\n",
       "      <td>PS3</td>\n",
       "      <td>25.54</td>\n",
       "      <td>10.0</td>\n",
       "    </tr>\n",
       "    <tr>\n",
       "      <th>3</th>\n",
       "      <td>3DS</td>\n",
       "      <td>16.12</td>\n",
       "      <td>7.0</td>\n",
       "    </tr>\n",
       "    <tr>\n",
       "      <th>4</th>\n",
       "      <td>X360</td>\n",
       "      <td>15.49</td>\n",
       "      <td>6.0</td>\n",
       "    </tr>\n",
       "  </tbody>\n",
       "</table>\n",
       "</div>"
      ],
      "text/plain": [
       "  platform  eu_sales  share_of_sales\n",
       "0      PS4    130.04            53.0\n",
       "1     XOne     46.25            19.0\n",
       "2      PS3     25.54            10.0\n",
       "3      3DS     16.12             7.0\n",
       "4     X360     15.49             6.0"
      ]
     },
     "execution_count": 62,
     "metadata": {},
     "output_type": "execute_result"
    }
   ],
   "source": [
    "#Top 5 самых популярных платформ\n",
    "\n",
    "top_platform_na = (current_data.groupby('platform')['eu_sales']\n",
    " .sum()\n",
    " .to_frame()\n",
    " .sort_values(by='eu_sales', ascending=False)\n",
    " .reset_index())\n",
    "top_platform_na['share_of_sales'] = ((top_platform_na['eu_sales']/current_data['eu_sales'].sum())*100).round(0)\n",
    "top_platform_na.head(5)"
   ]
  },
  {
   "cell_type": "code",
   "execution_count": 63,
   "metadata": {},
   "outputs": [
    {
     "data": {
      "text/html": [
       "<div>\n",
       "<style scoped>\n",
       "    .dataframe tbody tr th:only-of-type {\n",
       "        vertical-align: middle;\n",
       "    }\n",
       "\n",
       "    .dataframe tbody tr th {\n",
       "        vertical-align: top;\n",
       "    }\n",
       "\n",
       "    .dataframe thead th {\n",
       "        text-align: right;\n",
       "    }\n",
       "</style>\n",
       "<table border=\"1\" class=\"dataframe\">\n",
       "  <thead>\n",
       "    <tr style=\"text-align: right;\">\n",
       "      <th></th>\n",
       "      <th>genre</th>\n",
       "      <th>eu_sales</th>\n",
       "      <th>share_of_sales</th>\n",
       "    </tr>\n",
       "  </thead>\n",
       "  <tbody>\n",
       "    <tr>\n",
       "      <th>0</th>\n",
       "      <td>Action</td>\n",
       "      <td>69.32</td>\n",
       "      <td>28.0</td>\n",
       "    </tr>\n",
       "    <tr>\n",
       "      <th>1</th>\n",
       "      <td>Shooter</td>\n",
       "      <td>61.87</td>\n",
       "      <td>25.0</td>\n",
       "    </tr>\n",
       "    <tr>\n",
       "      <th>2</th>\n",
       "      <td>Sports</td>\n",
       "      <td>44.17</td>\n",
       "      <td>18.0</td>\n",
       "    </tr>\n",
       "    <tr>\n",
       "      <th>3</th>\n",
       "      <td>Role-Playing</td>\n",
       "      <td>24.91</td>\n",
       "      <td>10.0</td>\n",
       "    </tr>\n",
       "    <tr>\n",
       "      <th>4</th>\n",
       "      <td>Racing</td>\n",
       "      <td>13.51</td>\n",
       "      <td>5.0</td>\n",
       "    </tr>\n",
       "  </tbody>\n",
       "</table>\n",
       "</div>"
      ],
      "text/plain": [
       "          genre  eu_sales  share_of_sales\n",
       "0        Action     69.32            28.0\n",
       "1       Shooter     61.87            25.0\n",
       "2        Sports     44.17            18.0\n",
       "3  Role-Playing     24.91            10.0\n",
       "4        Racing     13.51             5.0"
      ]
     },
     "execution_count": 63,
     "metadata": {},
     "output_type": "execute_result"
    }
   ],
   "source": [
    "#Top 5 самых популярных жанров\n",
    "\n",
    "top_genre_na = (current_data.groupby('genre')['eu_sales']\n",
    " .sum()\n",
    " .to_frame()\n",
    " .sort_values(by='eu_sales', ascending=False)\n",
    " .reset_index())\n",
    "top_genre_na['share_of_sales'] = ((top_genre_na['eu_sales']/current_data['eu_sales'].sum())*100).round(0)\n",
    "top_genre_na.head(5)"
   ]
  },
  {
   "cell_type": "code",
   "execution_count": 64,
   "metadata": {},
   "outputs": [
    {
     "data": {
      "image/png": "[encoded data removed]",
      "text/plain": [
       "<Figure size 720x432 with 1 Axes>"
      ]
     },
     "metadata": {},
     "output_type": "display_data"
    }
   ],
   "source": [
    "# Построим диаграмму рассеняния зависимости рейтинга ESRB на продажи в Северной Америке\n",
    "\n",
    "fig, ax = plt.subplots(figsize = (10,6))\n",
    "\n",
    "ax.scatter(x = current_data['rating'], y = current_data['eu_sales'], color = 'darkgreen')\n",
    "ax.grid(True)\n",
    "ax.set_title('Диаграмма рассеняния рейтинга ESRB и продаж в Северной Америке', fontsize = 15)\n",
    "ax.set_xlabel('рейтинг ESRB')\n",
    "ax.set_ylabel('Продажи')\n",
    "ax.set_ylim(0, 12)\n",
    "\n",
    "\n",
    "plt.show()"
   ]
  },
  {
   "cell_type": "markdown",
   "metadata": {},
   "source": [
    "Можно увидеть слабую зависимость продаж от рейтинга ESRB:\n",
    "    - чем старше возрастная группа, тем лучше продажи."
   ]
  },
  {
   "cell_type": "markdown",
   "metadata": {},
   "source": [
    "<div class=\"alert alert-block alert-success\">\n",
    " \n",
    "### Комментарий ревьюера\n",
    "    \n",
    "#### Успех\n",
    "\n",
    "Во-многом Европа похожа на Северную Америку"
   ]
  },
  {
   "cell_type": "markdown",
   "metadata": {},
   "source": [
    "### Портрет пользователя из Японии"
   ]
  },
  {
   "cell_type": "code",
   "execution_count": 65,
   "metadata": {},
   "outputs": [
    {
     "data": {
      "text/html": [
       "<div>\n",
       "<style scoped>\n",
       "    .dataframe tbody tr th:only-of-type {\n",
       "        vertical-align: middle;\n",
       "    }\n",
       "\n",
       "    .dataframe tbody tr th {\n",
       "        vertical-align: top;\n",
       "    }\n",
       "\n",
       "    .dataframe thead th {\n",
       "        text-align: right;\n",
       "    }\n",
       "</style>\n",
       "<table border=\"1\" class=\"dataframe\">\n",
       "  <thead>\n",
       "    <tr style=\"text-align: right;\">\n",
       "      <th></th>\n",
       "      <th>platform</th>\n",
       "      <th>jp_sales</th>\n",
       "      <th>share_of_sales</th>\n",
       "    </tr>\n",
       "  </thead>\n",
       "  <tbody>\n",
       "    <tr>\n",
       "      <th>0</th>\n",
       "      <td>3DS</td>\n",
       "      <td>44.24</td>\n",
       "      <td>57.0</td>\n",
       "    </tr>\n",
       "    <tr>\n",
       "      <th>1</th>\n",
       "      <td>PS4</td>\n",
       "      <td>15.02</td>\n",
       "      <td>19.0</td>\n",
       "    </tr>\n",
       "    <tr>\n",
       "      <th>2</th>\n",
       "      <td>PS3</td>\n",
       "      <td>11.22</td>\n",
       "      <td>14.0</td>\n",
       "    </tr>\n",
       "    <tr>\n",
       "      <th>3</th>\n",
       "      <td>WiiU</td>\n",
       "      <td>7.31</td>\n",
       "      <td>9.0</td>\n",
       "    </tr>\n",
       "    <tr>\n",
       "      <th>4</th>\n",
       "      <td>XOne</td>\n",
       "      <td>0.32</td>\n",
       "      <td>0.0</td>\n",
       "    </tr>\n",
       "  </tbody>\n",
       "</table>\n",
       "</div>"
      ],
      "text/plain": [
       "  platform  jp_sales  share_of_sales\n",
       "0      3DS     44.24            57.0\n",
       "1      PS4     15.02            19.0\n",
       "2      PS3     11.22            14.0\n",
       "3     WiiU      7.31             9.0\n",
       "4     XOne      0.32             0.0"
      ]
     },
     "execution_count": 65,
     "metadata": {},
     "output_type": "execute_result"
    }
   ],
   "source": [
    "#Top 5 самых популярных платформ\n",
    "\n",
    "top_platform_na = (current_data.groupby('platform')['jp_sales']\n",
    " .sum()\n",
    " .to_frame()\n",
    " .sort_values(by='jp_sales', ascending=False)\n",
    " .reset_index())\n",
    "top_platform_na['share_of_sales'] = ((top_platform_na['jp_sales']/current_data['jp_sales'].sum())*100).round(0)\n",
    "top_platform_na.head(5)"
   ]
  },
  {
   "cell_type": "code",
   "execution_count": 66,
   "metadata": {},
   "outputs": [
    {
     "data": {
      "text/html": [
       "<div>\n",
       "<style scoped>\n",
       "    .dataframe tbody tr th:only-of-type {\n",
       "        vertical-align: middle;\n",
       "    }\n",
       "\n",
       "    .dataframe tbody tr th {\n",
       "        vertical-align: top;\n",
       "    }\n",
       "\n",
       "    .dataframe thead th {\n",
       "        text-align: right;\n",
       "    }\n",
       "</style>\n",
       "<table border=\"1\" class=\"dataframe\">\n",
       "  <thead>\n",
       "    <tr style=\"text-align: right;\">\n",
       "      <th></th>\n",
       "      <th>genre</th>\n",
       "      <th>jp_sales</th>\n",
       "      <th>share_of_sales</th>\n",
       "    </tr>\n",
       "  </thead>\n",
       "  <tbody>\n",
       "    <tr>\n",
       "      <th>0</th>\n",
       "      <td>Role-Playing</td>\n",
       "      <td>26.47</td>\n",
       "      <td>34.0</td>\n",
       "    </tr>\n",
       "    <tr>\n",
       "      <th>1</th>\n",
       "      <td>Action</td>\n",
       "      <td>24.48</td>\n",
       "      <td>31.0</td>\n",
       "    </tr>\n",
       "    <tr>\n",
       "      <th>2</th>\n",
       "      <td>Fighting</td>\n",
       "      <td>5.91</td>\n",
       "      <td>8.0</td>\n",
       "    </tr>\n",
       "    <tr>\n",
       "      <th>3</th>\n",
       "      <td>Shooter</td>\n",
       "      <td>4.86</td>\n",
       "      <td>6.0</td>\n",
       "    </tr>\n",
       "    <tr>\n",
       "      <th>4</th>\n",
       "      <td>Misc</td>\n",
       "      <td>3.74</td>\n",
       "      <td>5.0</td>\n",
       "    </tr>\n",
       "  </tbody>\n",
       "</table>\n",
       "</div>"
      ],
      "text/plain": [
       "          genre  jp_sales  share_of_sales\n",
       "0  Role-Playing     26.47            34.0\n",
       "1        Action     24.48            31.0\n",
       "2      Fighting      5.91             8.0\n",
       "3       Shooter      4.86             6.0\n",
       "4          Misc      3.74             5.0"
      ]
     },
     "execution_count": 66,
     "metadata": {},
     "output_type": "execute_result"
    }
   ],
   "source": [
    "#Top 5 самых популярных жанров\n",
    "\n",
    "top_genre_na = (current_data.groupby('genre')['jp_sales']\n",
    " .sum()\n",
    " .to_frame()\n",
    " .sort_values(by='jp_sales', ascending=False)\n",
    " .reset_index())\n",
    "top_genre_na['share_of_sales'] = ((top_genre_na['jp_sales']/current_data['jp_sales'].sum())*100).round(0)\n",
    "top_genre_na.head(5)"
   ]
  },
  {
   "cell_type": "code",
   "execution_count": 67,
   "metadata": {},
   "outputs": [
    {
     "data": {
      "image/png": "[encoded data removed]",
      "text/plain": [
       "<Figure size 720x432 with 1 Axes>"
      ]
     },
     "metadata": {},
     "output_type": "display_data"
    }
   ],
   "source": [
    "# Построим диаграмму рассеняния зависимости рейтинга ESRB на продажи в Северной Америке\n",
    "\n",
    "fig, ax = plt.subplots(figsize = (10,6))\n",
    "\n",
    "ax.scatter(x = current_data['rating'], y = current_data['jp_sales'], color = 'darkred')\n",
    "ax.grid(True)\n",
    "ax.set_title('Диаграмма рассеняния рейтинга ESRB и продаж в Северной Америке', fontsize = 15)\n",
    "ax.set_xlabel('рейтинг ESRB')\n",
    "ax.set_ylabel('Продажи')\n",
    "ax.set_ylim(0, 12)\n",
    "\n",
    "\n",
    "plt.show()"
   ]
  },
  {
   "cell_type": "markdown",
   "metadata": {},
   "source": [
    "Зависимости от рейтинга ESRB не наблюдается."
   ]
  },
  {
   "cell_type": "markdown",
   "metadata": {},
   "source": [
    "<div class=\"alert alert-block alert-success\">\n",
    " \n",
    "### Комментарий ревьюера\n",
    "    \n",
    "#### Успех\n",
    "    \n",
    "Рассмотрев каждый из регионов мы пришли к выводу, что каждый из них имеет свою специфику"
   ]
  },
  {
   "cell_type": "markdown",
   "metadata": {},
   "source": [
    "## Проверка гипотез"
   ]
  },
  {
   "cell_type": "markdown",
   "metadata": {},
   "source": [
    "### Средние пользовательские рейтинги платформ Xbox One и PC"
   ]
  },
  {
   "cell_type": "markdown",
   "metadata": {},
   "source": [
    "- Нулевая гипотеза: средние пользовательские рейтинги платформ Xbox One и PC одинаковые.\n",
    "- Альтернативная гипотеза: средние пользовательские рейтинги платформ Xbox One и PC разные.\n",
    "- Уровень статистической значимости установим на 5% (.05)"
   ]
  },
  {
   "cell_type": "code",
   "execution_count": 68,
   "metadata": {},
   "outputs": [
    {
     "name": "stdout",
     "output_type": "stream",
     "text": [
      "средний пользовательский рейтинг платформы Xbox One 5.93\n",
      "средний пользовательский рейтинг платфмормы PC 6.42\n",
      "------------------------------------------------------------\n",
      "p-value: 0.0009164446760254914\n",
      "Отвергаем нулевую гипотезу\n"
     ]
    }
   ],
   "source": [
    "# задаём уровень значимости\n",
    "alpha = 0.05\n",
    "\n",
    "print('средний пользовательский рейтинг платформы Xbox One', \n",
    "      data.query('platform==\"XOne\"')['user_score'].mean().round(2))\n",
    "print('средний пользовательский рейтинг платфмормы PC', \n",
    "      data.query('platform==\"PC\"')['user_score'].mean().round(2))\n",
    "print(\"-\"*60)\n",
    "# проводим ttest для двух выборок, в качестве альтернативной используем двустороннюю гипотезу\n",
    "results = (st.ttest_ind(data.query('platform==\"XOne\"')['user_score'], \n",
    "                        data.query('platform==\"PC\"')['user_score'], \n",
    "                        alternative='two-sided'))\n",
    "\n",
    "print(f'p-value: {results.pvalue}')\n",
    "\n",
    "# проверяем p-value\n",
    "if results.pvalue < alpha:\n",
    "    print('Отвергаем нулевую гипотезу')\n",
    "else:\n",
    "    print('Нет оснований отвергнуть нулевую гипотезу')"
   ]
  },
  {
   "cell_type": "markdown",
   "metadata": {},
   "source": [
    "На основании проведенного теста можно полагать, что пользовательские рейтинги платформ Xbox One и PC различны."
   ]
  },
  {
   "cell_type": "markdown",
   "metadata": {},
   "source": [
    "\n",
    "Средние пользовательские рейтинги жанров Action (англ. «действие», экшен-игры) и Sports (англ. «спортивные соревнования») разные.\n"
   ]
  },
  {
   "cell_type": "markdown",
   "metadata": {},
   "source": [
    "<div class=\"alert alert-block alert-success\">\n",
    " \n",
    "### Комментарий ревьюера\n",
    "    \n",
    "#### Успех\n",
    "    \n",
    "Гипотезы сформулированы и верно определен метод проверки. С выводами согласен "
   ]
  },
  {
   "cell_type": "markdown",
   "metadata": {},
   "source": [
    "### Средние пользовательские рейтинги жанров Action и Sports"
   ]
  },
  {
   "cell_type": "markdown",
   "metadata": {},
   "source": [
    "- Нулевая гипотеза: средние пользовательские рейтинги жанров Action и Sports одинаковые.\n",
    "- Альтернативная гипотеза: средние пользовательские рейтинги жанров Action и Sports разные.\n",
    "- Уровень статистической значимости установим на 5% (.05)"
   ]
  },
  {
   "cell_type": "code",
   "execution_count": 69,
   "metadata": {},
   "outputs": [
    {
     "name": "stdout",
     "output_type": "stream",
     "text": [
      "средний пользовательский рейтинг жанра Action 5.59\n",
      "средний пользовательский рейтинг жанра Sports 5.09\n",
      "------------------------------------------------------------\n",
      "p-value: 1.42550352063744e-13\n",
      "Отвергаем нулевую гипотезу\n"
     ]
    }
   ],
   "source": [
    "# задаём уровень значимости\n",
    "alpha = 0.05\n",
    "\n",
    "print('средний пользовательский рейтинг жанра Action', \n",
    "      data.query('genre==\"Action\"')['user_score'].mean().round(2))\n",
    "print('средний пользовательский рейтинг жанра Sports', \n",
    "      data.query('genre==\"Sports\"')['user_score'].mean().round(2))\n",
    "print(\"-\"*60)\n",
    "# проводим ttest для двух выборок, в качестве альтернативной используем двустороннюю гипотезу\n",
    "results = (st.ttest_ind(data.query('genre==\"Action\"')['user_score'], \n",
    "                        data.query('genre==\"Sports\"')['user_score'], \n",
    "                        alternative='two-sided'))\n",
    "\n",
    "print(f'p-value: {results.pvalue}')\n",
    "\n",
    "# проверяем p-value\n",
    "if results.pvalue < alpha:\n",
    "    print('Отвергаем нулевую гипотезу')\n",
    "else:\n",
    "    print('Нет оснований отвергнуть нулевую гипотезу')"
   ]
  },
  {
   "cell_type": "markdown",
   "metadata": {},
   "source": [
    "На основании теста можно сделать вывод, что средние пользовательские рейтинги жанров Action и Sports разные. "
   ]
  },
  {
   "cell_type": "markdown",
   "metadata": {},
   "source": [
    "<div class=\"alert alert-block alert-success\">\n",
    " \n",
    "### Комментарий ревьюера\n",
    "    \n",
    "#### Успех\n",
    "    \n",
    "Аналогично вышло"
   ]
  },
  {
   "cell_type": "markdown",
   "metadata": {},
   "source": [
    "## Выводы"
   ]
  },
  {
   "cell_type": "markdown",
   "metadata": {},
   "source": [
    "Для  интернет-магазина \"Стримчик\", который продает компьютерные игры по всему миру, было проведено исследование с целью выявления потенциально популярного продукта и планирования рекламной компании.\n",
    "\n",
    "Исследование проводилось на данных из открытых источников. Данные содержали инфомрацию:\n",
    "- о продаже игр, \n",
    "- оценки пользователей и экспертов, \n",
    "- жанры \n",
    "- платформы (такие как, Xbox или PlayStation и другие). \n",
    "\n",
    "В ходе предварительной оценки данных было установлено, что:\n",
    "\n",
    "- набор данных достаточен для анализа\n",
    "- есть пропуски, аномалии и выбросы\n",
    "- присутсвуют неправильные типы данных\n",
    "- названия столбцов не соответсвуют стандартам\n",
    "\n",
    "В ходе обработки данных были обработаны пропуски:\n",
    "- Строки без названия игр удалены (менее 0.1% от всех данных)\n",
    "- Пропуски в столбцах с пользовательским рейтингом частично восстановлены из столбца с оценкой критиков, остальные заменены средним значением в зависимости от жанра игры. \n",
    "- Пропуски в столбцах с оценкой критиков заменены на средние значения в зависимости от жанра. \n",
    "- Пропуски в столбце рейтинга заменены на новую категории \"Без рейтинга\"\n",
    "\n",
    "В ходе исследовательского анализа данных было установлено:\n",
    "\n",
    "- Развитие игровой индустрии (продажи игр) началось после 1990г. \n",
    "- За всю историю наблюдений лидерами по продажам стали: PS2, X360, PS3, Wii, DS.\n",
    "- Время популярности платформ конечно. В среднем от 6 до 10 лет. Но PC при этом остается вне времени.\n",
    "\n",
    "В качестве прогноза на 2017 год можно отметить следующее:\n",
    "\n",
    "на фоне остальных потенциально выгодными можно считать игры на платформы \n",
    "- PS4, \n",
    "- XOne. \n",
    "- Так же стоит отметить PC т.к. игры на данную платформу вне времени (не имеют период жизни).\n",
    "- 3DS выделяется на фоне остальных, но есть предположение, что ее пик уже позади. \n",
    "- Стоит обращать внимание на экстремально высокие рейтинги критиков. Такие игры имеют хорошие продажи.\n",
    "- Но в первую очередь обращать внимание на пользовательские рейтинги. Начиная от 5 и выше игры хорошо продаются.\n",
    "\n",
    "Согласно распределению самые продаваемые жанры:\n",
    "1. Shooter\n",
    "2. Platform\n",
    "3. Sports\n",
    "\n",
    "Самые плохо продаваемые жанры (антирейтинг):\n",
    "1. Adventure\n",
    "2. Puzzle\n",
    "3. Strategy\n",
    "\n",
    "Для пользователей из Северной Америки подойдут игры на платформы:\n",
    "- X360\t\n",
    "- PS3\t\n",
    "- PS4\t\n",
    "\n",
    "В жанре Action, Shooter, Sports, Role-Playin, Misc. \n",
    "Стоит обратить внимание на рейтинг от 10+ и старше.\n",
    "\n",
    "Для пользователей из Европы подойдут аналогичные платформы, с поправкой на жанры - вместо Misc предпочитают Racing\n",
    "\n",
    "Для пользователей из Японии в порядке убывания интересны платформы:\n",
    "- 3DS, \n",
    "- PS3,\t\n",
    "- PSP,\n",
    "- PSV,\n",
    "- PS4.\n",
    "Вместо Shooter предпочитают  Fighting.\n",
    "\n",
    "В ходе проверки гипотез было установлено:\n",
    "- пользовательские рейтинги платформ Xbox One и PC различны.\n",
    "- средние пользовательские рейтинги жанров Action и Sports разные.\n",
    "\n",
    "\n"
   ]
  },
  {
   "cell_type": "markdown",
   "metadata": {},
   "source": [
    "<div class=\"alert alert-block alert-success\">\n",
    " \n",
    "### Комментарий ревьюера\n",
    "    \n",
    "#### Успех\n",
    "    \n",
    "Итоговый вывод стал прекрасным дополнением к проекту. С такими выводами мы смело можем составить прогноз продаж на 2017 год. Уверен, нам точно хватит для этого данных"
   ]
  },
  {
   "cell_type": "markdown",
   "metadata": {},
   "source": [
    "<div class=\"alert alert-block alert-info\">\n",
    "\n",
    "## Итоговый комментарии от ревьюера:\n",
    "    \n",
    "#### Успех\n",
    "\n",
    "Поздравляю тебя с выполнением твоего первого Сборного проекта. Мне показалось, что работа выполненна прекрасно и ты здорово постаралась. Понравилось, что ты хорошо владеешь отличными навыками Предобработки данных и проверки Гипотез. А еще особенно ценно, что ты везде пишешь аргументацию своим действиям. Так, если проект попадет в руки незнакомому человеку, он сможет разобраться. Это тебе очень пригодится в будущем.\n",
    "\n",
    "В проекте осталось пару замечаний:\n",
    "    \n",
    "* Промежуточные выводы добавить.\n",
    "* Ящик с усами доработать.\n",
    "       \n",
    "Еще я оставил рекомендации. Очень надеюсь, что ты учтешь их в этом и последующих проектах.\n",
    "    \n",
    "    \n",
    "Жду проект после доработки. Уверен, ты справишься.\n",
    "</div>"
   ]
  },
  {
   "cell_type": "markdown",
   "metadata": {},
   "source": [
    "<div class=\"alert alert-block alert-info\">\n",
    "Вячеслав, благодарю за уделенное время, за ценные советы. Постаралась все учесть и доработать по замечаниям!\n",
    "</div>"
   ]
  },
  {
   "cell_type": "code",
   "execution_count": null,
   "metadata": {},
   "outputs": [],
   "source": []
  }
 ],
 "metadata": {
  "ExecuteTimeLog": [
   {
    "duration": 1441,
    "start_time": "2024-10-01T06:07:40.675Z"
   },
   {
    "duration": 254,
    "start_time": "2024-10-01T06:10:17.627Z"
   },
   {
    "duration": 3095,
    "start_time": "2024-10-04T19:35:25.082Z"
   },
   {
    "duration": 1301,
    "start_time": "2024-10-04T19:35:28.180Z"
   },
   {
    "duration": 232,
    "start_time": "2024-10-04T19:35:29.483Z"
   },
   {
    "duration": 16,
    "start_time": "2024-10-04T19:35:29.717Z"
   },
   {
    "duration": 10,
    "start_time": "2024-10-04T19:35:29.735Z"
   },
   {
    "duration": 666,
    "start_time": "2024-10-04T19:35:29.747Z"
   },
   {
    "duration": 877,
    "start_time": "2024-10-04T19:35:30.415Z"
   },
   {
    "duration": 5,
    "start_time": "2024-10-04T19:35:31.293Z"
   },
   {
    "duration": 16,
    "start_time": "2024-10-04T19:35:31.300Z"
   },
   {
    "duration": 72,
    "start_time": "2024-10-04T19:35:31.320Z"
   },
   {
    "duration": 4,
    "start_time": "2024-10-04T19:35:31.393Z"
   },
   {
    "duration": 11,
    "start_time": "2024-10-04T19:35:31.398Z"
   },
   {
    "duration": 4,
    "start_time": "2024-10-04T19:35:31.411Z"
   },
   {
    "duration": 1199,
    "start_time": "2024-10-04T19:35:31.417Z"
   },
   {
    "duration": 4,
    "start_time": "2024-10-04T19:35:32.618Z"
   },
   {
    "duration": 76,
    "start_time": "2024-10-04T19:35:32.624Z"
   },
   {
    "duration": 6,
    "start_time": "2024-10-04T19:35:32.701Z"
   },
   {
    "duration": 16,
    "start_time": "2024-10-04T19:35:32.708Z"
   },
   {
    "duration": 6,
    "start_time": "2024-10-04T19:35:32.725Z"
   },
   {
    "duration": 5,
    "start_time": "2024-10-04T19:35:32.732Z"
   },
   {
    "duration": 19,
    "start_time": "2024-10-04T19:35:32.739Z"
   },
   {
    "duration": 8,
    "start_time": "2024-10-04T19:35:32.760Z"
   },
   {
    "duration": 35,
    "start_time": "2024-10-04T19:35:32.770Z"
   },
   {
    "duration": 9,
    "start_time": "2024-10-04T19:35:32.806Z"
   },
   {
    "duration": 5,
    "start_time": "2024-10-04T19:35:32.816Z"
   },
   {
    "duration": 80,
    "start_time": "2024-10-04T19:35:32.823Z"
   },
   {
    "duration": 56,
    "start_time": "2024-10-04T19:35:32.904Z"
   },
   {
    "duration": 5,
    "start_time": "2024-10-04T19:35:32.979Z"
   },
   {
    "duration": 10,
    "start_time": "2024-10-04T19:35:32.985Z"
   },
   {
    "duration": 19,
    "start_time": "2024-10-04T19:35:32.996Z"
   },
   {
    "duration": 5,
    "start_time": "2024-10-04T19:35:33.017Z"
   },
   {
    "duration": 17,
    "start_time": "2024-10-04T19:35:33.023Z"
   },
   {
    "duration": 50,
    "start_time": "2024-10-04T19:35:33.041Z"
   },
   {
    "duration": 6,
    "start_time": "2024-10-04T19:35:33.093Z"
   },
   {
    "duration": 14,
    "start_time": "2024-10-04T19:35:33.101Z"
   },
   {
    "duration": 211,
    "start_time": "2024-10-04T19:35:33.117Z"
   },
   {
    "duration": 6,
    "start_time": "2024-10-04T19:35:33.330Z"
   },
   {
    "duration": 28,
    "start_time": "2024-10-04T19:35:33.337Z"
   },
   {
    "duration": 31,
    "start_time": "2024-10-04T19:35:33.367Z"
   },
   {
    "duration": 360,
    "start_time": "2024-10-04T19:35:33.400Z"
   },
   {
    "duration": 6,
    "start_time": "2024-10-04T19:35:33.762Z"
   },
   {
    "duration": 25,
    "start_time": "2024-10-04T19:35:33.770Z"
   },
   {
    "duration": 112,
    "start_time": "2024-10-04T19:35:33.796Z"
   },
   {
    "duration": 23,
    "start_time": "2024-10-04T19:35:33.910Z"
   },
   {
    "duration": 17,
    "start_time": "2024-10-04T19:35:33.935Z"
   },
   {
    "duration": 300,
    "start_time": "2024-10-04T19:35:33.953Z"
   },
   {
    "duration": 298,
    "start_time": "2024-10-04T19:35:34.254Z"
   },
   {
    "duration": 214,
    "start_time": "2024-10-04T19:35:34.554Z"
   },
   {
    "duration": 12,
    "start_time": "2024-10-04T19:35:34.770Z"
   },
   {
    "duration": 458,
    "start_time": "2024-10-04T19:35:34.783Z"
   },
   {
    "duration": 7,
    "start_time": "2024-10-04T19:35:35.243Z"
   },
   {
    "duration": 189,
    "start_time": "2024-10-04T19:35:35.252Z"
   },
   {
    "duration": 12,
    "start_time": "2024-10-04T19:35:35.442Z"
   },
   {
    "duration": 173,
    "start_time": "2024-10-04T19:35:35.456Z"
   },
   {
    "duration": 8,
    "start_time": "2024-10-04T19:35:35.630Z"
   },
   {
    "duration": 396,
    "start_time": "2024-10-04T19:35:35.640Z"
   },
   {
    "duration": 11,
    "start_time": "2024-10-04T19:35:36.038Z"
   },
   {
    "duration": 29,
    "start_time": "2024-10-04T19:35:36.050Z"
   },
   {
    "duration": 38,
    "start_time": "2024-10-04T19:35:36.080Z"
   },
   {
    "duration": 28,
    "start_time": "2024-10-04T19:35:36.120Z"
   },
   {
    "duration": 164,
    "start_time": "2024-10-04T19:35:36.150Z"
   },
   {
    "duration": 14,
    "start_time": "2024-10-04T19:35:36.316Z"
   },
   {
    "duration": 48,
    "start_time": "2024-10-04T19:35:36.331Z"
   },
   {
    "duration": 181,
    "start_time": "2024-10-04T19:35:36.380Z"
   },
   {
    "duration": 20,
    "start_time": "2024-10-04T19:35:36.563Z"
   },
   {
    "duration": 13,
    "start_time": "2024-10-04T19:35:36.585Z"
   },
   {
    "duration": 182,
    "start_time": "2024-10-04T19:35:36.600Z"
   },
   {
    "duration": 17,
    "start_time": "2024-10-04T19:35:36.784Z"
   },
   {
    "duration": 61,
    "start_time": "2024-10-04T19:35:36.803Z"
   },
   {
    "duration": 0,
    "start_time": "2024-10-04T19:35:36.865Z"
   },
   {
    "duration": 18,
    "start_time": "2024-10-04T19:36:06.029Z"
   },
   {
    "duration": 213,
    "start_time": "2024-10-04T19:37:09.295Z"
   },
   {
    "duration": 311,
    "start_time": "2024-10-04T19:37:22.011Z"
   },
   {
    "duration": 284,
    "start_time": "2024-10-04T19:37:35.368Z"
   },
   {
    "duration": 285,
    "start_time": "2024-10-04T19:37:47.396Z"
   },
   {
    "duration": 287,
    "start_time": "2024-10-04T19:38:02.795Z"
   },
   {
    "duration": 399,
    "start_time": "2024-10-04T19:38:11.277Z"
   },
   {
    "duration": 164,
    "start_time": "2024-10-04T19:38:50.394Z"
   },
   {
    "duration": 161,
    "start_time": "2024-10-04T19:38:57.735Z"
   },
   {
    "duration": 320,
    "start_time": "2024-10-04T19:39:11.876Z"
   },
   {
    "duration": 161,
    "start_time": "2024-10-04T19:39:28.983Z"
   },
   {
    "duration": 233,
    "start_time": "2024-10-04T19:39:38.128Z"
   },
   {
    "duration": 168,
    "start_time": "2024-10-04T19:39:46.409Z"
   },
   {
    "duration": 138,
    "start_time": "2024-10-04T19:39:54.261Z"
   },
   {
    "duration": 170,
    "start_time": "2024-10-04T19:40:00.194Z"
   },
   {
    "duration": 169,
    "start_time": "2024-10-04T19:40:06.491Z"
   },
   {
    "duration": 173,
    "start_time": "2024-10-04T19:40:15.978Z"
   },
   {
    "duration": 51,
    "start_time": "2024-10-07T06:37:36.736Z"
   },
   {
    "duration": 3399,
    "start_time": "2024-10-07T06:37:45.866Z"
   },
   {
    "duration": 1435,
    "start_time": "2024-10-07T06:37:49.267Z"
   },
   {
    "duration": 252,
    "start_time": "2024-10-07T06:37:50.706Z"
   },
   {
    "duration": 15,
    "start_time": "2024-10-07T06:37:50.961Z"
   },
   {
    "duration": 88,
    "start_time": "2024-10-07T06:37:50.977Z"
   },
   {
    "duration": 722,
    "start_time": "2024-10-07T06:37:51.067Z"
   },
   {
    "duration": 901,
    "start_time": "2024-10-07T06:37:51.791Z"
   },
   {
    "duration": 5,
    "start_time": "2024-10-07T06:37:52.693Z"
   },
   {
    "duration": 25,
    "start_time": "2024-10-07T06:37:52.700Z"
   },
   {
    "duration": 88,
    "start_time": "2024-10-07T06:37:52.728Z"
   },
   {
    "duration": 5,
    "start_time": "2024-10-07T06:37:52.817Z"
   },
   {
    "duration": 9,
    "start_time": "2024-10-07T06:37:52.824Z"
   },
   {
    "duration": 12,
    "start_time": "2024-10-07T06:37:52.835Z"
   },
   {
    "duration": 1258,
    "start_time": "2024-10-07T06:37:52.865Z"
   },
   {
    "duration": 5,
    "start_time": "2024-10-07T06:37:54.124Z"
   },
   {
    "duration": 20,
    "start_time": "2024-10-07T06:37:54.131Z"
   },
   {
    "duration": 16,
    "start_time": "2024-10-07T06:37:54.153Z"
   },
   {
    "duration": 10,
    "start_time": "2024-10-07T06:37:54.171Z"
   },
   {
    "duration": 18,
    "start_time": "2024-10-07T06:37:54.183Z"
   },
   {
    "duration": 5,
    "start_time": "2024-10-07T06:37:54.203Z"
   },
   {
    "duration": 10,
    "start_time": "2024-10-07T06:37:54.209Z"
   },
   {
    "duration": 10,
    "start_time": "2024-10-07T06:37:54.221Z"
   },
   {
    "duration": 11,
    "start_time": "2024-10-07T06:37:54.233Z"
   },
   {
    "duration": 8,
    "start_time": "2024-10-07T06:37:54.265Z"
   },
   {
    "duration": 6,
    "start_time": "2024-10-07T06:37:54.275Z"
   },
   {
    "duration": 105,
    "start_time": "2024-10-07T06:37:54.284Z"
   },
   {
    "duration": 80,
    "start_time": "2024-10-07T06:37:54.391Z"
   },
   {
    "duration": 6,
    "start_time": "2024-10-07T06:37:54.478Z"
   },
   {
    "duration": 6,
    "start_time": "2024-10-07T06:37:54.486Z"
   },
   {
    "duration": 22,
    "start_time": "2024-10-07T06:37:54.493Z"
   },
   {
    "duration": 6,
    "start_time": "2024-10-07T06:37:54.516Z"
   },
   {
    "duration": 53,
    "start_time": "2024-10-07T06:37:54.523Z"
   },
   {
    "duration": 31,
    "start_time": "2024-10-07T06:37:54.578Z"
   },
   {
    "duration": 7,
    "start_time": "2024-10-07T06:37:54.611Z"
   },
   {
    "duration": 50,
    "start_time": "2024-10-07T06:37:54.620Z"
   },
   {
    "duration": 237,
    "start_time": "2024-10-07T06:37:54.672Z"
   },
   {
    "duration": 6,
    "start_time": "2024-10-07T06:37:54.910Z"
   },
   {
    "duration": 18,
    "start_time": "2024-10-07T06:37:54.917Z"
   },
   {
    "duration": 53,
    "start_time": "2024-10-07T06:37:54.937Z"
   },
   {
    "duration": 440,
    "start_time": "2024-10-07T06:37:54.992Z"
   },
   {
    "duration": 9,
    "start_time": "2024-10-07T06:37:55.434Z"
   },
   {
    "duration": 27,
    "start_time": "2024-10-07T06:37:55.445Z"
   },
   {
    "duration": 5,
    "start_time": "2024-10-07T06:37:55.473Z"
   },
   {
    "duration": 23,
    "start_time": "2024-10-07T06:37:55.480Z"
   },
   {
    "duration": 13,
    "start_time": "2024-10-07T06:37:55.504Z"
   },
   {
    "duration": 333,
    "start_time": "2024-10-07T06:37:55.518Z"
   },
   {
    "duration": 373,
    "start_time": "2024-10-07T06:37:55.853Z"
   },
   {
    "duration": 241,
    "start_time": "2024-10-07T06:37:56.228Z"
   },
   {
    "duration": 13,
    "start_time": "2024-10-07T06:37:56.470Z"
   },
   {
    "duration": 507,
    "start_time": "2024-10-07T06:37:56.485Z"
   },
   {
    "duration": 7,
    "start_time": "2024-10-07T06:37:56.994Z"
   },
   {
    "duration": 242,
    "start_time": "2024-10-07T06:37:57.003Z"
   },
   {
    "duration": 20,
    "start_time": "2024-10-07T06:37:57.246Z"
   },
   {
    "duration": 185,
    "start_time": "2024-10-07T06:37:57.268Z"
   },
   {
    "duration": 16,
    "start_time": "2024-10-07T06:37:57.455Z"
   },
   {
    "duration": 469,
    "start_time": "2024-10-07T06:37:57.473Z"
   },
   {
    "duration": 24,
    "start_time": "2024-10-07T06:37:57.945Z"
   },
   {
    "duration": 16,
    "start_time": "2024-10-07T06:37:57.971Z"
   },
   {
    "duration": 45,
    "start_time": "2024-10-07T06:37:57.988Z"
   },
   {
    "duration": 13,
    "start_time": "2024-10-07T06:37:58.035Z"
   },
   {
    "duration": 176,
    "start_time": "2024-10-07T06:37:58.049Z"
   },
   {
    "duration": 13,
    "start_time": "2024-10-07T06:37:58.227Z"
   },
   {
    "duration": 32,
    "start_time": "2024-10-07T06:37:58.241Z"
   },
   {
    "duration": 194,
    "start_time": "2024-10-07T06:37:58.275Z"
   },
   {
    "duration": 14,
    "start_time": "2024-10-07T06:37:58.471Z"
   },
   {
    "duration": 26,
    "start_time": "2024-10-07T06:37:58.488Z"
   },
   {
    "duration": 185,
    "start_time": "2024-10-07T06:37:58.517Z"
   },
   {
    "duration": 17,
    "start_time": "2024-10-07T06:37:58.703Z"
   },
   {
    "duration": 16,
    "start_time": "2024-10-07T06:37:58.722Z"
   },
   {
    "duration": 77,
    "start_time": "2024-10-07T06:40:28.884Z"
   },
   {
    "duration": 71,
    "start_time": "2024-10-07T06:43:51.586Z"
   },
   {
    "duration": 4,
    "start_time": "2024-10-07T06:45:58.136Z"
   },
   {
    "duration": 6,
    "start_time": "2024-10-07T06:55:32.497Z"
   },
   {
    "duration": 1008,
    "start_time": "2024-10-07T06:55:38.345Z"
   },
   {
    "duration": 5,
    "start_time": "2024-10-07T06:55:41.420Z"
   },
   {
    "duration": 6,
    "start_time": "2024-10-07T06:55:44.995Z"
   },
   {
    "duration": 5,
    "start_time": "2024-10-07T06:55:47.746Z"
   },
   {
    "duration": 64,
    "start_time": "2024-10-07T06:55:56.162Z"
   },
   {
    "duration": 4,
    "start_time": "2024-10-07T06:56:46.879Z"
   },
   {
    "duration": 7,
    "start_time": "2024-10-07T06:58:02.358Z"
   },
   {
    "duration": 110,
    "start_time": "2024-10-07T06:58:43.511Z"
   },
   {
    "duration": 7,
    "start_time": "2024-10-07T06:58:48.273Z"
   },
   {
    "duration": 17,
    "start_time": "2024-10-07T06:58:50.561Z"
   },
   {
    "duration": 10,
    "start_time": "2024-10-07T07:00:44.615Z"
   },
   {
    "duration": 18,
    "start_time": "2024-10-07T07:00:55.636Z"
   },
   {
    "duration": 83,
    "start_time": "2024-10-07T07:12:19.487Z"
   },
   {
    "duration": 9,
    "start_time": "2024-10-07T07:20:16.620Z"
   },
   {
    "duration": 18,
    "start_time": "2024-10-07T07:20:28.354Z"
   },
   {
    "duration": 5,
    "start_time": "2024-10-07T07:21:00.035Z"
   },
   {
    "duration": 9,
    "start_time": "2024-10-07T07:21:06.802Z"
   },
   {
    "duration": 17,
    "start_time": "2024-10-07T07:21:09.402Z"
   },
   {
    "duration": 360,
    "start_time": "2024-10-07T07:21:19.247Z"
   },
   {
    "duration": 327,
    "start_time": "2024-10-07T07:22:05.568Z"
   },
   {
    "duration": 11,
    "start_time": "2024-10-07T07:24:12.750Z"
   },
   {
    "duration": 10,
    "start_time": "2024-10-07T07:24:26.068Z"
   },
   {
    "duration": 13,
    "start_time": "2024-10-07T07:24:30.748Z"
   },
   {
    "duration": 16,
    "start_time": "2024-10-07T07:24:37.862Z"
   },
   {
    "duration": 6,
    "start_time": "2024-10-07T07:25:18.332Z"
   },
   {
    "duration": 9,
    "start_time": "2024-10-07T07:25:43.618Z"
   },
   {
    "duration": 16,
    "start_time": "2024-10-07T07:25:47.581Z"
   },
   {
    "duration": 6,
    "start_time": "2024-10-07T07:25:51.716Z"
   },
   {
    "duration": 8,
    "start_time": "2024-10-07T07:25:59.250Z"
   },
   {
    "duration": 13,
    "start_time": "2024-10-07T07:26:00.182Z"
   },
   {
    "duration": 308,
    "start_time": "2024-10-07T07:26:04.597Z"
   },
   {
    "duration": 225,
    "start_time": "2024-10-07T07:26:45.982Z"
   },
   {
    "duration": 212,
    "start_time": "2024-10-07T07:27:50.797Z"
   },
   {
    "duration": 14,
    "start_time": "2024-10-07T07:27:54.049Z"
   },
   {
    "duration": 582,
    "start_time": "2024-10-07T07:28:01.032Z"
   },
   {
    "duration": 7,
    "start_time": "2024-10-07T07:28:05.367Z"
   },
   {
    "duration": 193,
    "start_time": "2024-10-07T07:28:10.196Z"
   },
   {
    "duration": 13,
    "start_time": "2024-10-07T07:28:12.847Z"
   },
   {
    "duration": 171,
    "start_time": "2024-10-07T07:28:14.652Z"
   },
   {
    "duration": 12,
    "start_time": "2024-10-07T07:28:18.885Z"
   },
   {
    "duration": 372,
    "start_time": "2024-10-07T07:28:28.315Z"
   },
   {
    "duration": 12,
    "start_time": "2024-10-07T07:28:41.732Z"
   },
   {
    "duration": 14,
    "start_time": "2024-10-07T07:28:48.087Z"
   },
   {
    "duration": 19,
    "start_time": "2024-10-07T07:28:49.881Z"
   },
   {
    "duration": 13,
    "start_time": "2024-10-07T07:28:50.601Z"
   },
   {
    "duration": 154,
    "start_time": "2024-10-07T07:28:52.964Z"
   },
   {
    "duration": 14,
    "start_time": "2024-10-07T07:28:58.750Z"
   },
   {
    "duration": 14,
    "start_time": "2024-10-07T07:29:00.104Z"
   },
   {
    "duration": 168,
    "start_time": "2024-10-07T07:29:02.380Z"
   },
   {
    "duration": 14,
    "start_time": "2024-10-07T07:29:09.663Z"
   },
   {
    "duration": 15,
    "start_time": "2024-10-07T07:29:10.350Z"
   },
   {
    "duration": 165,
    "start_time": "2024-10-07T07:29:12.384Z"
   },
   {
    "duration": 21,
    "start_time": "2024-10-07T07:29:18.317Z"
   },
   {
    "duration": 18,
    "start_time": "2024-10-07T07:29:27.997Z"
   },
   {
    "duration": 69,
    "start_time": "2024-10-07T07:32:40.897Z"
   },
   {
    "duration": 2548,
    "start_time": "2024-10-07T07:32:54.958Z"
   },
   {
    "duration": 1181,
    "start_time": "2024-10-07T07:32:57.508Z"
   },
   {
    "duration": 102,
    "start_time": "2024-10-07T07:32:58.691Z"
   },
   {
    "duration": 15,
    "start_time": "2024-10-07T07:32:58.795Z"
   },
   {
    "duration": 11,
    "start_time": "2024-10-07T07:32:58.811Z"
   },
   {
    "duration": 661,
    "start_time": "2024-10-07T07:32:58.823Z"
   },
   {
    "duration": 976,
    "start_time": "2024-10-07T07:32:59.485Z"
   },
   {
    "duration": 4,
    "start_time": "2024-10-07T07:33:00.464Z"
   },
   {
    "duration": 13,
    "start_time": "2024-10-07T07:33:00.469Z"
   },
   {
    "duration": 116,
    "start_time": "2024-10-07T07:33:00.486Z"
   },
   {
    "duration": 0,
    "start_time": "2024-10-07T07:33:00.605Z"
   },
   {
    "duration": 0,
    "start_time": "2024-10-07T07:33:00.606Z"
   },
   {
    "duration": 0,
    "start_time": "2024-10-07T07:33:00.608Z"
   },
   {
    "duration": 0,
    "start_time": "2024-10-07T07:33:00.609Z"
   },
   {
    "duration": 0,
    "start_time": "2024-10-07T07:33:00.610Z"
   },
   {
    "duration": 0,
    "start_time": "2024-10-07T07:33:00.611Z"
   },
   {
    "duration": 0,
    "start_time": "2024-10-07T07:33:00.612Z"
   },
   {
    "duration": 0,
    "start_time": "2024-10-07T07:33:00.614Z"
   },
   {
    "duration": 0,
    "start_time": "2024-10-07T07:33:00.615Z"
   },
   {
    "duration": 0,
    "start_time": "2024-10-07T07:33:00.616Z"
   },
   {
    "duration": 0,
    "start_time": "2024-10-07T07:33:00.618Z"
   },
   {
    "duration": 0,
    "start_time": "2024-10-07T07:33:00.619Z"
   },
   {
    "duration": 0,
    "start_time": "2024-10-07T07:33:00.620Z"
   },
   {
    "duration": 0,
    "start_time": "2024-10-07T07:33:00.621Z"
   },
   {
    "duration": 0,
    "start_time": "2024-10-07T07:33:00.622Z"
   },
   {
    "duration": 0,
    "start_time": "2024-10-07T07:33:00.623Z"
   },
   {
    "duration": 0,
    "start_time": "2024-10-07T07:33:00.624Z"
   },
   {
    "duration": 1,
    "start_time": "2024-10-07T07:33:00.625Z"
   },
   {
    "duration": 0,
    "start_time": "2024-10-07T07:33:00.627Z"
   },
   {
    "duration": 0,
    "start_time": "2024-10-07T07:33:00.666Z"
   },
   {
    "duration": 0,
    "start_time": "2024-10-07T07:33:00.668Z"
   },
   {
    "duration": 0,
    "start_time": "2024-10-07T07:33:00.669Z"
   },
   {
    "duration": 0,
    "start_time": "2024-10-07T07:33:00.670Z"
   },
   {
    "duration": 0,
    "start_time": "2024-10-07T07:33:00.671Z"
   },
   {
    "duration": 0,
    "start_time": "2024-10-07T07:33:00.673Z"
   },
   {
    "duration": 0,
    "start_time": "2024-10-07T07:33:00.674Z"
   },
   {
    "duration": 0,
    "start_time": "2024-10-07T07:33:00.675Z"
   },
   {
    "duration": 0,
    "start_time": "2024-10-07T07:33:00.676Z"
   },
   {
    "duration": 0,
    "start_time": "2024-10-07T07:33:00.678Z"
   },
   {
    "duration": 0,
    "start_time": "2024-10-07T07:33:00.679Z"
   },
   {
    "duration": 0,
    "start_time": "2024-10-07T07:33:00.680Z"
   },
   {
    "duration": 0,
    "start_time": "2024-10-07T07:33:00.681Z"
   },
   {
    "duration": 1,
    "start_time": "2024-10-07T07:33:00.682Z"
   },
   {
    "duration": 0,
    "start_time": "2024-10-07T07:33:00.684Z"
   },
   {
    "duration": 0,
    "start_time": "2024-10-07T07:33:00.685Z"
   },
   {
    "duration": 0,
    "start_time": "2024-10-07T07:33:00.686Z"
   },
   {
    "duration": 0,
    "start_time": "2024-10-07T07:33:00.687Z"
   },
   {
    "duration": 0,
    "start_time": "2024-10-07T07:33:00.688Z"
   },
   {
    "duration": 0,
    "start_time": "2024-10-07T07:33:00.689Z"
   },
   {
    "duration": 0,
    "start_time": "2024-10-07T07:33:00.690Z"
   },
   {
    "duration": 0,
    "start_time": "2024-10-07T07:33:00.691Z"
   },
   {
    "duration": 0,
    "start_time": "2024-10-07T07:33:00.692Z"
   },
   {
    "duration": 0,
    "start_time": "2024-10-07T07:33:00.693Z"
   },
   {
    "duration": 0,
    "start_time": "2024-10-07T07:33:00.694Z"
   },
   {
    "duration": 0,
    "start_time": "2024-10-07T07:33:00.695Z"
   },
   {
    "duration": 0,
    "start_time": "2024-10-07T07:33:00.696Z"
   },
   {
    "duration": 0,
    "start_time": "2024-10-07T07:33:00.697Z"
   },
   {
    "duration": 0,
    "start_time": "2024-10-07T07:33:00.699Z"
   },
   {
    "duration": 0,
    "start_time": "2024-10-07T07:33:00.704Z"
   },
   {
    "duration": 0,
    "start_time": "2024-10-07T07:33:00.706Z"
   },
   {
    "duration": 0,
    "start_time": "2024-10-07T07:33:00.707Z"
   },
   {
    "duration": 0,
    "start_time": "2024-10-07T07:33:00.766Z"
   },
   {
    "duration": 0,
    "start_time": "2024-10-07T07:33:00.768Z"
   },
   {
    "duration": 0,
    "start_time": "2024-10-07T07:33:00.769Z"
   },
   {
    "duration": 0,
    "start_time": "2024-10-07T07:33:00.770Z"
   },
   {
    "duration": 0,
    "start_time": "2024-10-07T07:33:00.772Z"
   },
   {
    "duration": 0,
    "start_time": "2024-10-07T07:33:00.773Z"
   },
   {
    "duration": 0,
    "start_time": "2024-10-07T07:33:00.775Z"
   },
   {
    "duration": 0,
    "start_time": "2024-10-07T07:33:00.776Z"
   },
   {
    "duration": 2590,
    "start_time": "2024-10-07T07:35:34.963Z"
   },
   {
    "duration": 1236,
    "start_time": "2024-10-07T07:35:37.555Z"
   },
   {
    "duration": 107,
    "start_time": "2024-10-07T07:35:38.792Z"
   },
   {
    "duration": 14,
    "start_time": "2024-10-07T07:35:38.901Z"
   },
   {
    "duration": 9,
    "start_time": "2024-10-07T07:35:38.917Z"
   },
   {
    "duration": 701,
    "start_time": "2024-10-07T07:35:38.927Z"
   },
   {
    "duration": 908,
    "start_time": "2024-10-07T07:35:39.629Z"
   },
   {
    "duration": 4,
    "start_time": "2024-10-07T07:35:40.539Z"
   },
   {
    "duration": 13,
    "start_time": "2024-10-07T07:35:40.544Z"
   },
   {
    "duration": 118,
    "start_time": "2024-10-07T07:35:40.564Z"
   },
   {
    "duration": 0,
    "start_time": "2024-10-07T07:35:40.685Z"
   },
   {
    "duration": 0,
    "start_time": "2024-10-07T07:35:40.686Z"
   },
   {
    "duration": 0,
    "start_time": "2024-10-07T07:35:40.688Z"
   },
   {
    "duration": 0,
    "start_time": "2024-10-07T07:35:40.689Z"
   },
   {
    "duration": 0,
    "start_time": "2024-10-07T07:35:40.690Z"
   },
   {
    "duration": 0,
    "start_time": "2024-10-07T07:35:40.691Z"
   },
   {
    "duration": 0,
    "start_time": "2024-10-07T07:35:40.692Z"
   },
   {
    "duration": 0,
    "start_time": "2024-10-07T07:35:40.693Z"
   },
   {
    "duration": 0,
    "start_time": "2024-10-07T07:35:40.695Z"
   },
   {
    "duration": 0,
    "start_time": "2024-10-07T07:35:40.696Z"
   },
   {
    "duration": 0,
    "start_time": "2024-10-07T07:35:40.697Z"
   },
   {
    "duration": 0,
    "start_time": "2024-10-07T07:35:40.698Z"
   },
   {
    "duration": 0,
    "start_time": "2024-10-07T07:35:40.699Z"
   },
   {
    "duration": 0,
    "start_time": "2024-10-07T07:35:40.700Z"
   },
   {
    "duration": 0,
    "start_time": "2024-10-07T07:35:40.701Z"
   },
   {
    "duration": 0,
    "start_time": "2024-10-07T07:35:40.703Z"
   },
   {
    "duration": 0,
    "start_time": "2024-10-07T07:35:40.704Z"
   },
   {
    "duration": 0,
    "start_time": "2024-10-07T07:35:40.705Z"
   },
   {
    "duration": 0,
    "start_time": "2024-10-07T07:35:40.707Z"
   },
   {
    "duration": 0,
    "start_time": "2024-10-07T07:35:40.708Z"
   },
   {
    "duration": 0,
    "start_time": "2024-10-07T07:35:40.709Z"
   },
   {
    "duration": 0,
    "start_time": "2024-10-07T07:35:40.711Z"
   },
   {
    "duration": 0,
    "start_time": "2024-10-07T07:35:40.712Z"
   },
   {
    "duration": 0,
    "start_time": "2024-10-07T07:35:40.713Z"
   },
   {
    "duration": 0,
    "start_time": "2024-10-07T07:35:40.715Z"
   },
   {
    "duration": 0,
    "start_time": "2024-10-07T07:35:40.765Z"
   },
   {
    "duration": 0,
    "start_time": "2024-10-07T07:35:40.767Z"
   },
   {
    "duration": 0,
    "start_time": "2024-10-07T07:35:40.768Z"
   },
   {
    "duration": 0,
    "start_time": "2024-10-07T07:35:40.770Z"
   },
   {
    "duration": 0,
    "start_time": "2024-10-07T07:35:40.771Z"
   },
   {
    "duration": 0,
    "start_time": "2024-10-07T07:35:40.772Z"
   },
   {
    "duration": 0,
    "start_time": "2024-10-07T07:35:40.774Z"
   },
   {
    "duration": 0,
    "start_time": "2024-10-07T07:35:40.775Z"
   },
   {
    "duration": 0,
    "start_time": "2024-10-07T07:35:40.776Z"
   },
   {
    "duration": 0,
    "start_time": "2024-10-07T07:35:40.777Z"
   },
   {
    "duration": 0,
    "start_time": "2024-10-07T07:35:40.779Z"
   },
   {
    "duration": 0,
    "start_time": "2024-10-07T07:35:40.780Z"
   },
   {
    "duration": 0,
    "start_time": "2024-10-07T07:35:40.781Z"
   },
   {
    "duration": 0,
    "start_time": "2024-10-07T07:35:40.782Z"
   },
   {
    "duration": 0,
    "start_time": "2024-10-07T07:35:40.785Z"
   },
   {
    "duration": 0,
    "start_time": "2024-10-07T07:35:40.786Z"
   },
   {
    "duration": 0,
    "start_time": "2024-10-07T07:35:40.788Z"
   },
   {
    "duration": 0,
    "start_time": "2024-10-07T07:35:40.790Z"
   },
   {
    "duration": 0,
    "start_time": "2024-10-07T07:35:40.791Z"
   },
   {
    "duration": 0,
    "start_time": "2024-10-07T07:35:40.792Z"
   },
   {
    "duration": 0,
    "start_time": "2024-10-07T07:35:40.793Z"
   },
   {
    "duration": 0,
    "start_time": "2024-10-07T07:35:40.794Z"
   },
   {
    "duration": 0,
    "start_time": "2024-10-07T07:35:40.795Z"
   },
   {
    "duration": 0,
    "start_time": "2024-10-07T07:35:40.797Z"
   },
   {
    "duration": 0,
    "start_time": "2024-10-07T07:35:40.798Z"
   },
   {
    "duration": 0,
    "start_time": "2024-10-07T07:35:40.799Z"
   },
   {
    "duration": 0,
    "start_time": "2024-10-07T07:35:40.800Z"
   },
   {
    "duration": 0,
    "start_time": "2024-10-07T07:35:40.801Z"
   },
   {
    "duration": 0,
    "start_time": "2024-10-07T07:35:40.803Z"
   },
   {
    "duration": 0,
    "start_time": "2024-10-07T07:35:40.865Z"
   },
   {
    "duration": 0,
    "start_time": "2024-10-07T07:35:40.867Z"
   },
   {
    "duration": 0,
    "start_time": "2024-10-07T07:35:40.868Z"
   },
   {
    "duration": 0,
    "start_time": "2024-10-07T07:35:40.869Z"
   },
   {
    "duration": 0,
    "start_time": "2024-10-07T07:35:40.871Z"
   },
   {
    "duration": 9,
    "start_time": "2024-10-07T07:36:02.860Z"
   },
   {
    "duration": 5,
    "start_time": "2024-10-07T07:36:21.223Z"
   },
   {
    "duration": 197,
    "start_time": "2024-10-07T07:36:22.095Z"
   },
   {
    "duration": 15,
    "start_time": "2024-10-07T07:36:24.078Z"
   },
   {
    "duration": 10,
    "start_time": "2024-10-07T07:36:24.764Z"
   },
   {
    "duration": 634,
    "start_time": "2024-10-07T07:36:25.565Z"
   },
   {
    "duration": 1008,
    "start_time": "2024-10-07T07:36:27.062Z"
   },
   {
    "duration": 4,
    "start_time": "2024-10-07T07:36:36.611Z"
   },
   {
    "duration": 3,
    "start_time": "2024-10-07T07:36:42.113Z"
   },
   {
    "duration": 10,
    "start_time": "2024-10-07T07:36:46.179Z"
   },
   {
    "duration": 10,
    "start_time": "2024-10-07T07:38:28.775Z"
   },
   {
    "duration": 10,
    "start_time": "2024-10-07T07:38:59.593Z"
   },
   {
    "duration": 10,
    "start_time": "2024-10-07T07:39:15.848Z"
   },
   {
    "duration": 4,
    "start_time": "2024-10-07T07:42:39.175Z"
   },
   {
    "duration": 4,
    "start_time": "2024-10-07T07:42:49.400Z"
   },
   {
    "duration": 4,
    "start_time": "2024-10-07T07:43:24.741Z"
   },
   {
    "duration": 9,
    "start_time": "2024-10-07T07:43:42.504Z"
   },
   {
    "duration": 2529,
    "start_time": "2024-10-07T07:45:05.192Z"
   },
   {
    "duration": 1153,
    "start_time": "2024-10-07T07:45:07.723Z"
   },
   {
    "duration": 104,
    "start_time": "2024-10-07T07:45:08.878Z"
   },
   {
    "duration": 15,
    "start_time": "2024-10-07T07:45:08.984Z"
   },
   {
    "duration": 10,
    "start_time": "2024-10-07T07:45:09.000Z"
   },
   {
    "duration": 655,
    "start_time": "2024-10-07T07:45:09.011Z"
   },
   {
    "duration": 943,
    "start_time": "2024-10-07T07:45:09.668Z"
   },
   {
    "duration": 4,
    "start_time": "2024-10-07T07:45:10.613Z"
   },
   {
    "duration": 19,
    "start_time": "2024-10-07T07:45:10.619Z"
   },
   {
    "duration": 69,
    "start_time": "2024-10-07T07:45:10.641Z"
   },
   {
    "duration": 4,
    "start_time": "2024-10-07T07:45:10.712Z"
   },
   {
    "duration": 12,
    "start_time": "2024-10-07T07:45:10.718Z"
   },
   {
    "duration": 8,
    "start_time": "2024-10-07T07:45:10.732Z"
   },
   {
    "duration": 1271,
    "start_time": "2024-10-07T07:45:10.742Z"
   },
   {
    "duration": 5,
    "start_time": "2024-10-07T07:45:12.016Z"
   },
   {
    "duration": 16,
    "start_time": "2024-10-07T07:45:12.023Z"
   },
   {
    "duration": 6,
    "start_time": "2024-10-07T07:45:12.040Z"
   },
   {
    "duration": 19,
    "start_time": "2024-10-07T07:45:12.047Z"
   },
   {
    "duration": 5,
    "start_time": "2024-10-07T07:45:12.068Z"
   },
   {
    "duration": 4,
    "start_time": "2024-10-07T07:45:12.075Z"
   },
   {
    "duration": 9,
    "start_time": "2024-10-07T07:45:12.081Z"
   },
   {
    "duration": 5,
    "start_time": "2024-10-07T07:45:12.092Z"
   },
   {
    "duration": 12,
    "start_time": "2024-10-07T07:45:12.099Z"
   },
   {
    "duration": 7,
    "start_time": "2024-10-07T07:45:12.113Z"
   },
   {
    "duration": 47,
    "start_time": "2024-10-07T07:45:12.122Z"
   },
   {
    "duration": 64,
    "start_time": "2024-10-07T07:45:12.171Z"
   },
   {
    "duration": 105,
    "start_time": "2024-10-07T07:45:12.237Z"
   },
   {
    "duration": 5,
    "start_time": "2024-10-07T07:45:12.347Z"
   },
   {
    "duration": 14,
    "start_time": "2024-10-07T07:45:12.354Z"
   },
   {
    "duration": 19,
    "start_time": "2024-10-07T07:45:12.370Z"
   },
   {
    "duration": 5,
    "start_time": "2024-10-07T07:45:12.391Z"
   },
   {
    "duration": 14,
    "start_time": "2024-10-07T07:45:12.398Z"
   },
   {
    "duration": 60,
    "start_time": "2024-10-07T07:45:12.414Z"
   },
   {
    "duration": 5,
    "start_time": "2024-10-07T07:45:12.476Z"
   },
   {
    "duration": 15,
    "start_time": "2024-10-07T07:45:12.482Z"
   },
   {
    "duration": 232,
    "start_time": "2024-10-07T07:45:12.498Z"
   },
   {
    "duration": 5,
    "start_time": "2024-10-07T07:45:12.732Z"
   },
   {
    "duration": 32,
    "start_time": "2024-10-07T07:45:12.738Z"
   },
   {
    "duration": 29,
    "start_time": "2024-10-07T07:45:12.772Z"
   },
   {
    "duration": 437,
    "start_time": "2024-10-07T07:45:12.803Z"
   },
   {
    "duration": 7,
    "start_time": "2024-10-07T07:45:13.242Z"
   },
   {
    "duration": 17,
    "start_time": "2024-10-07T07:45:13.250Z"
   },
   {
    "duration": 5,
    "start_time": "2024-10-07T07:45:13.269Z"
   },
   {
    "duration": 7,
    "start_time": "2024-10-07T07:45:13.275Z"
   },
   {
    "duration": 12,
    "start_time": "2024-10-07T07:45:13.283Z"
   },
   {
    "duration": 305,
    "start_time": "2024-10-07T07:45:13.296Z"
   },
   {
    "duration": 245,
    "start_time": "2024-10-07T07:45:13.602Z"
   },
   {
    "duration": 249,
    "start_time": "2024-10-07T07:45:13.848Z"
   },
   {
    "duration": 13,
    "start_time": "2024-10-07T07:45:14.099Z"
   },
   {
    "duration": 493,
    "start_time": "2024-10-07T07:45:14.113Z"
   },
   {
    "duration": 8,
    "start_time": "2024-10-07T07:45:14.608Z"
   },
   {
    "duration": 204,
    "start_time": "2024-10-07T07:45:14.617Z"
   },
   {
    "duration": 13,
    "start_time": "2024-10-07T07:45:14.823Z"
   },
   {
    "duration": 185,
    "start_time": "2024-10-07T07:45:14.838Z"
   },
   {
    "duration": 9,
    "start_time": "2024-10-07T07:45:15.025Z"
   },
   {
    "duration": 363,
    "start_time": "2024-10-07T07:45:15.035Z"
   },
   {
    "duration": 11,
    "start_time": "2024-10-07T07:45:15.399Z"
   },
   {
    "duration": 20,
    "start_time": "2024-10-07T07:45:15.412Z"
   },
   {
    "duration": 33,
    "start_time": "2024-10-07T07:45:15.434Z"
   },
   {
    "duration": 16,
    "start_time": "2024-10-07T07:45:15.469Z"
   },
   {
    "duration": 257,
    "start_time": "2024-10-07T07:45:15.487Z"
   },
   {
    "duration": 26,
    "start_time": "2024-10-07T07:45:15.746Z"
   },
   {
    "duration": 56,
    "start_time": "2024-10-07T07:45:15.774Z"
   },
   {
    "duration": 149,
    "start_time": "2024-10-07T07:45:15.831Z"
   },
   {
    "duration": 12,
    "start_time": "2024-10-07T07:45:15.982Z"
   },
   {
    "duration": 13,
    "start_time": "2024-10-07T07:45:15.996Z"
   },
   {
    "duration": 169,
    "start_time": "2024-10-07T07:45:16.010Z"
   },
   {
    "duration": 17,
    "start_time": "2024-10-07T07:45:16.181Z"
   },
   {
    "duration": 17,
    "start_time": "2024-10-07T07:45:16.199Z"
   },
   {
    "duration": 2539,
    "start_time": "2024-10-07T07:47:39.691Z"
   },
   {
    "duration": 1184,
    "start_time": "2024-10-07T07:47:42.232Z"
   },
   {
    "duration": 111,
    "start_time": "2024-10-07T07:47:43.418Z"
   },
   {
    "duration": 15,
    "start_time": "2024-10-07T07:47:43.532Z"
   },
   {
    "duration": 12,
    "start_time": "2024-10-07T07:47:43.549Z"
   },
   {
    "duration": 627,
    "start_time": "2024-10-07T07:47:43.562Z"
   },
   {
    "duration": 932,
    "start_time": "2024-10-07T07:47:44.191Z"
   },
   {
    "duration": 4,
    "start_time": "2024-10-07T07:47:45.124Z"
   },
   {
    "duration": 40,
    "start_time": "2024-10-07T07:47:45.129Z"
   },
   {
    "duration": 71,
    "start_time": "2024-10-07T07:47:45.171Z"
   },
   {
    "duration": 3,
    "start_time": "2024-10-07T07:47:45.244Z"
   },
   {
    "duration": 65,
    "start_time": "2024-10-07T07:47:45.249Z"
   },
   {
    "duration": 10,
    "start_time": "2024-10-07T07:47:45.316Z"
   },
   {
    "duration": 1264,
    "start_time": "2024-10-07T07:47:45.327Z"
   },
   {
    "duration": 5,
    "start_time": "2024-10-07T07:47:46.593Z"
   },
   {
    "duration": 16,
    "start_time": "2024-10-07T07:47:46.600Z"
   },
   {
    "duration": 7,
    "start_time": "2024-10-07T07:47:46.618Z"
   },
   {
    "duration": 24,
    "start_time": "2024-10-07T07:47:46.627Z"
   },
   {
    "duration": 16,
    "start_time": "2024-10-07T07:47:46.653Z"
   },
   {
    "duration": 12,
    "start_time": "2024-10-07T07:47:46.671Z"
   },
   {
    "duration": 20,
    "start_time": "2024-10-07T07:47:46.685Z"
   },
   {
    "duration": 6,
    "start_time": "2024-10-07T07:47:46.707Z"
   },
   {
    "duration": 17,
    "start_time": "2024-10-07T07:47:46.715Z"
   },
   {
    "duration": 9,
    "start_time": "2024-10-07T07:47:46.734Z"
   },
   {
    "duration": 26,
    "start_time": "2024-10-07T07:47:46.745Z"
   },
   {
    "duration": 67,
    "start_time": "2024-10-07T07:47:46.773Z"
   },
   {
    "duration": 72,
    "start_time": "2024-10-07T07:47:46.842Z"
   },
   {
    "duration": 5,
    "start_time": "2024-10-07T07:47:46.920Z"
   },
   {
    "duration": 8,
    "start_time": "2024-10-07T07:47:46.926Z"
   },
   {
    "duration": 33,
    "start_time": "2024-10-07T07:47:46.936Z"
   },
   {
    "duration": 5,
    "start_time": "2024-10-07T07:47:46.970Z"
   },
   {
    "duration": 14,
    "start_time": "2024-10-07T07:47:46.976Z"
   },
   {
    "duration": 32,
    "start_time": "2024-10-07T07:47:46.992Z"
   },
   {
    "duration": 5,
    "start_time": "2024-10-07T07:47:47.025Z"
   },
   {
    "duration": 17,
    "start_time": "2024-10-07T07:47:47.065Z"
   },
   {
    "duration": 239,
    "start_time": "2024-10-07T07:47:47.084Z"
   },
   {
    "duration": 5,
    "start_time": "2024-10-07T07:47:47.325Z"
   },
   {
    "duration": 53,
    "start_time": "2024-10-07T07:47:47.331Z"
   },
   {
    "duration": 30,
    "start_time": "2024-10-07T07:47:47.385Z"
   },
   {
    "duration": 442,
    "start_time": "2024-10-07T07:47:47.418Z"
   },
   {
    "duration": 9,
    "start_time": "2024-10-07T07:47:47.862Z"
   },
   {
    "duration": 16,
    "start_time": "2024-10-07T07:47:47.873Z"
   },
   {
    "duration": 46,
    "start_time": "2024-10-07T07:47:47.891Z"
   },
   {
    "duration": 10,
    "start_time": "2024-10-07T07:47:47.939Z"
   },
   {
    "duration": 12,
    "start_time": "2024-10-07T07:47:47.951Z"
   },
   {
    "duration": 283,
    "start_time": "2024-10-07T07:47:47.965Z"
   },
   {
    "duration": 259,
    "start_time": "2024-10-07T07:47:48.250Z"
   },
   {
    "duration": 240,
    "start_time": "2024-10-07T07:47:48.511Z"
   },
   {
    "duration": 19,
    "start_time": "2024-10-07T07:47:48.752Z"
   },
   {
    "duration": 463,
    "start_time": "2024-10-07T07:47:48.772Z"
   },
   {
    "duration": 7,
    "start_time": "2024-10-07T07:47:49.237Z"
   },
   {
    "duration": 193,
    "start_time": "2024-10-07T07:47:49.246Z"
   },
   {
    "duration": 13,
    "start_time": "2024-10-07T07:47:49.440Z"
   },
   {
    "duration": 189,
    "start_time": "2024-10-07T07:47:49.454Z"
   },
   {
    "duration": 8,
    "start_time": "2024-10-07T07:47:49.645Z"
   },
   {
    "duration": 375,
    "start_time": "2024-10-07T07:47:49.654Z"
   },
   {
    "duration": 11,
    "start_time": "2024-10-07T07:47:50.031Z"
   },
   {
    "duration": 29,
    "start_time": "2024-10-07T07:47:50.044Z"
   },
   {
    "duration": 19,
    "start_time": "2024-10-07T07:47:50.074Z"
   },
   {
    "duration": 19,
    "start_time": "2024-10-07T07:47:50.094Z"
   },
   {
    "duration": 260,
    "start_time": "2024-10-07T07:47:50.114Z"
   },
   {
    "duration": 14,
    "start_time": "2024-10-07T07:47:50.376Z"
   },
   {
    "duration": 13,
    "start_time": "2024-10-07T07:47:50.391Z"
   },
   {
    "duration": 191,
    "start_time": "2024-10-07T07:47:50.406Z"
   },
   {
    "duration": 18,
    "start_time": "2024-10-07T07:47:50.599Z"
   },
   {
    "duration": 26,
    "start_time": "2024-10-07T07:47:50.618Z"
   },
   {
    "duration": 178,
    "start_time": "2024-10-07T07:47:50.645Z"
   },
   {
    "duration": 20,
    "start_time": "2024-10-07T07:47:50.824Z"
   },
   {
    "duration": 33,
    "start_time": "2024-10-07T07:47:50.846Z"
   }
  ],
  "kernelspec": {
   "display_name": "Python 3 (ipykernel)",
   "language": "python",
   "name": "python3"
  },
  "language_info": {
   "codemirror_mode": {
    "name": "ipython",
    "version": 3
   },
   "file_extension": ".py",
   "mimetype": "text/x-python",
   "name": "python",
   "nbconvert_exporter": "python",
   "pygments_lexer": "ipython3",
   "version": "3.11.9"
  },
  "toc": {
   "base_numbering": 1,
   "nav_menu": {},
   "number_sections": true,
   "sideBar": true,
   "skip_h1_title": true,
   "title_cell": "Table of Contents",
   "title_sidebar": "Contents",
   "toc_cell": false,
   "toc_position": {},
   "toc_section_display": true,
   "toc_window_display": false
  }
 },
 "nbformat": 4,
 "nbformat_minor": 2
}
